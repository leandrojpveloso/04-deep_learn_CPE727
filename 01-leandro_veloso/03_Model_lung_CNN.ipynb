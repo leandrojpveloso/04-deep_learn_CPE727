{
  "nbformat": 4,
  "nbformat_minor": 0,
  "metadata": {
    "colab": {
      "provenance": [],
      "machine_shape": "hm",
      "collapsed_sections": [
        "hvxjpAJ9vLXp",
        "c7JVCXqhKRtV"
      ],
      "toc_visible": true
    },
    "kernelspec": {
      "name": "python3",
      "display_name": "Python 3"
    },
    "language_info": {
      "name": "python"
    },
    "accelerator": "GPU",
    "gpuClass": "premium"
  },
  "cells": [
    {
      "cell_type": "markdown",
      "source": [
        "# **0: Summary**"
      ],
      "metadata": {
        "id": "nYNQQC3mFRl2"
      }
    },
    {
      "cell_type": "markdown",
      "source": [
        "This notebook apply the Alexandre Ferreira Oliveira CNN code, where Leandro Veloso organize to a colab notebook with minor organization that does not change his finds.\n",
        "\n",
        "\n",
        "leandrojpveloso@gmail.com\n",
        "www.leandrojpveloso.com"
      ],
      "metadata": {
        "id": "l1EQTsZ6FmMU"
      }
    },
    {
      "cell_type": "markdown",
      "source": [
        "# 1: Setting up Python"
      ],
      "metadata": {
        "id": "hvxjpAJ9vLXp"
      }
    },
    {
      "cell_type": "markdown",
      "source": [
        "## 1.1: Basic package"
      ],
      "metadata": {
        "id": "cMDua07TzUUH"
      }
    },
    {
      "cell_type": "code",
      "execution_count": null,
      "metadata": {
        "id": "igGDdE1cvHZs"
      },
      "outputs": [],
      "source": [
        "import matplotlib.pyplot as plt   # plotting\n",
        "import numpy as np                # linear algebra\n",
        "import pandas as pd               # data processing, CSV file I/O (e.g. pd.read_csv)\n",
        "import os                         # accessing directory structure\n",
        "import pickle                     # reading pickle files format\n",
        "from google.colab import drive    # google drive conection\n",
        "import seaborn as sns             # graph bar"
      ]
    },
    {
      "cell_type": "code",
      "source": [
        "import pickle\n",
        "from scipy import ndimage, misc\n",
        "from   mpl_toolkits.mplot3d import Axes3D\n",
        "from   glob import glob\n",
        "from   tqdm import tqdm\n",
        "import cv2 \n",
        "import time\n",
        "import sys, math"
      ],
      "metadata": {
        "id": "UFFazbnZS4YW"
      },
      "execution_count": null,
      "outputs": []
    },
    {
      "cell_type": "markdown",
      "source": [
        "## 1.2: Tensorflow"
      ],
      "metadata": {
        "id": "W2e-yjbNy2tr"
      }
    },
    {
      "cell_type": "code",
      "source": [
        "import tensorflow as tf\n",
        "\n",
        "from tensorflow.keras import layers\n",
        "from tensorflow.keras.callbacks import ModelCheckpoint, EarlyStopping, ReduceLROnPlateau"
      ],
      "metadata": {
        "id": "1UDk5GIRyYgO"
      },
      "execution_count": null,
      "outputs": []
    },
    {
      "cell_type": "code",
      "source": [
        "!pip install tensorflow-addons"
      ],
      "metadata": {
        "id": "fpC6NpeB2iZh"
      },
      "execution_count": null,
      "outputs": []
    },
    {
      "cell_type": "code",
      "source": [
        "import tensorflow_addons as tfa"
      ],
      "metadata": {
        "id": "lTAxHnZRyVzY"
      },
      "execution_count": null,
      "outputs": []
    },
    {
      "cell_type": "markdown",
      "source": [
        "## 1.3: Keras"
      ],
      "metadata": {
        "id": "BpvZzXOdy8DT"
      }
    },
    {
      "cell_type": "code",
      "source": [
        "import keras"
      ],
      "metadata": {
        "id": "--ikg5dyy929"
      },
      "execution_count": null,
      "outputs": []
    },
    {
      "cell_type": "markdown",
      "source": [
        "## 1.4: Scikit packages"
      ],
      "metadata": {
        "id": "vfmPUi8IzCnk"
      }
    },
    {
      "cell_type": "code",
      "source": [
        "from sklearn.model_selection import train_test_split\n",
        "from sklearn.metrics import confusion_matrix"
      ],
      "metadata": {
        "id": "L62XCFJqycuz"
      },
      "execution_count": null,
      "outputs": []
    },
    {
      "cell_type": "markdown",
      "source": [
        "drive mounting"
      ],
      "metadata": {
        "id": "n0HxRnT0JvQp"
      }
    },
    {
      "cell_type": "code",
      "source": [
        "from google.colab import drive\n",
        "drive.mount('/content/drive')\n",
        "\n",
        "# Alexandre's drive Path \n",
        "Alex_path = \"/content/drive/MyDrive/00-desorganizado/Dataset\"\n",
        "Le_path   = \"/content/drive/MyDrive/01-projetos_colab/03-PHd/01-Covid_lung_deep\""
      ],
      "metadata": {
        "colab": {
          "base_uri": "https://localhost:8080/"
        },
        "outputId": "d27d769c-9860-4f44-8968-b7b3ae537b7d",
        "id": "BzAoGm1qJvQp"
      },
      "execution_count": null,
      "outputs": [
        {
          "output_type": "stream",
          "name": "stdout",
          "text": [
            "Mounted at /content/drive\n"
          ]
        }
      ]
    },
    {
      "cell_type": "markdown",
      "source": [
        "# 2: CNN Model setting up"
      ],
      "metadata": {
        "id": "c7JVCXqhKRtV"
      }
    },
    {
      "cell_type": "markdown",
      "source": [
        "## 2.1: Creating model object"
      ],
      "metadata": {
        "id": "baQMDVM7LPmV"
      }
    },
    {
      "cell_type": "code",
      "source": [
        "CNN_model = keras.Sequential([\n",
        "    keras.layers.Conv2D(80, kernel_size=3, activation='relu', input_shape=(256,256,1), padding='valid'),\n",
        "    keras.layers.MaxPool2D(pool_size=(2,2), strides=None),\n",
        "    keras.layers.Conv2D(40, kernel_size=3, activation='relu', padding='valid'),\n",
        "    keras.layers.GlobalAveragePooling2D(),\n",
        "    keras.layers.Flatten(),\n",
        "    keras.layers.Dense(30, activation='relu'),\n",
        "    keras.layers.Dense(15, activation='relu'),\n",
        "    keras.layers.Dense(3, activation=tf.nn.softmax)\n",
        "])"
      ],
      "metadata": {
        "id": "dVXM9fLUKbza"
      },
      "execution_count": null,
      "outputs": []
    },
    {
      "cell_type": "code",
      "source": [
        " CNN_model.summary()"
      ],
      "metadata": {
        "colab": {
          "base_uri": "https://localhost:8080/"
        },
        "id": "e_gml05AK1Wm",
        "outputId": "7164fc85-236d-49a4-bdc0-0ec551c029bc"
      },
      "execution_count": null,
      "outputs": [
        {
          "output_type": "stream",
          "name": "stdout",
          "text": [
            "Model: \"sequential\"\n",
            "_________________________________________________________________\n",
            " Layer (type)                Output Shape              Param #   \n",
            "=================================================================\n",
            " conv2d (Conv2D)             (None, 254, 254, 80)      800       \n",
            "                                                                 \n",
            " max_pooling2d (MaxPooling2D  (None, 127, 127, 80)     0         \n",
            " )                                                               \n",
            "                                                                 \n",
            " conv2d_1 (Conv2D)           (None, 125, 125, 40)      28840     \n",
            "                                                                 \n",
            " global_average_pooling2d (G  (None, 40)               0         \n",
            " lobalAveragePooling2D)                                          \n",
            "                                                                 \n",
            " flatten (Flatten)           (None, 40)                0         \n",
            "                                                                 \n",
            " dense (Dense)               (None, 30)                1230      \n",
            "                                                                 \n",
            " dense_1 (Dense)             (None, 15)                465       \n",
            "                                                                 \n",
            " dense_2 (Dense)             (None, 3)                 48        \n",
            "                                                                 \n",
            "=================================================================\n",
            "Total params: 31,383\n",
            "Trainable params: 31,383\n",
            "Non-trainable params: 0\n",
            "_________________________________________________________________\n"
          ]
        }
      ]
    },
    {
      "cell_type": "code",
      "source": [
        "tf.keras.utils.plot_model(CNN_model)"
      ],
      "metadata": {
        "colab": {
          "base_uri": "https://localhost:8080/"
        },
        "id": "t1x1_njNK247",
        "outputId": "ec84261c-7e65-4ffc-e981-a48322bbec42"
      },
      "execution_count": null,
      "outputs": [
        {
          "output_type": "execute_result",
          "data": {
            "image/png": "[encoded data removed]",
            "text/plain": [
              "<IPython.core.display.Image object>"
            ]
          },
          "metadata": {},
          "execution_count": 11
        }
      ]
    },
    {
      "cell_type": "markdown",
      "source": [
        "## 2.2 Compilation object definition"
      ],
      "metadata": {
        "id": "gr1jhQbOLVr2"
      }
    },
    {
      "cell_type": "markdown",
      "source": [
        "Aqui definimos o otimizador, a função de perda utilizada e as métricas consideradas para treinamento do modelo"
      ],
      "metadata": {
        "id": "aj6HsCjPLjcB"
      }
    },
    {
      "cell_type": "code",
      "source": [
        "f1 = tfa.metrics.F1Score(num_classes=3, average='weighted')"
      ],
      "metadata": {
        "id": "IyOQne9rLVZz"
      },
      "execution_count": null,
      "outputs": []
    },
    {
      "cell_type": "code",
      "source": [
        "CNN_model.compile(optimizer='adam',\n",
        "                  loss='categorical_crossentropy',\n",
        "                  metrics=['accuracy','AUC',f1])"
      ],
      "metadata": {
        "id": "zMoKKO0ZLVQG"
      },
      "execution_count": null,
      "outputs": []
    },
    {
      "cell_type": "markdown",
      "source": [
        "f1 = tfa.metrics.F1Score(num_classes=3, average='weighted')"
      ],
      "metadata": {
        "id": "pec7RjnGLUpE"
      }
    },
    {
      "cell_type": "markdown",
      "source": [
        "## 2.3: Adding callbacks"
      ],
      "metadata": {
        "id": "ai-cWo60L9Zh"
      }
    },
    {
      "cell_type": "code",
      "source": [
        "es = EarlyStopping(monitor='val_f1_score', \n",
        "                   mode='max', \n",
        "                   verbose=1, \n",
        "                   patience=100)  "
      ],
      "metadata": {
        "id": "00mC2aypN9Ig"
      },
      "execution_count": null,
      "outputs": []
    },
    {
      "cell_type": "markdown",
      "source": [
        "## 2.4: Defyning function to save model history"
      ],
      "metadata": {
        "id": "cHFmNpB7OJDg"
      }
    },
    {
      "cell_type": "code",
      "source": [
        "root_logdir = os.path.join(Le_path, \"01-log\")"
      ],
      "metadata": {
        "id": "FuupL06JSfyE"
      },
      "execution_count": null,
      "outputs": []
    },
    {
      "cell_type": "code",
      "source": [
        "def get_run_logdir():\n",
        "    run_id = time.strftime(\"run_CNN_XeY_256_Weight_F1_%Y_%m_%d-%H_%M_%S\")\n",
        "    return os.path.join(root_logdir, run_id)"
      ],
      "metadata": {
        "id": "Tv9nPjv8SRSI"
      },
      "execution_count": null,
      "outputs": []
    },
    {
      "cell_type": "code",
      "source": [
        "mc = ModelCheckpoint(os.path.join(root_logdir, '/RedeCNN_Tese_Full_F1.h5'), \n",
        "                     monitor='val_f1_score', \n",
        "                     mode='max', \n",
        "                     save_best_only=True,\n",
        "                     verbose=1)"
      ],
      "metadata": {
        "id": "yurp7MnZSGBr"
      },
      "execution_count": null,
      "outputs": []
    },
    {
      "cell_type": "code",
      "source": [
        "run_logdir = get_run_logdir()\n",
        "tensorboard_cb = keras.callbacks.TensorBoard(run_logdir)"
      ],
      "metadata": {
        "id": "zULV82YjOR3V"
      },
      "execution_count": null,
      "outputs": []
    },
    {
      "cell_type": "code",
      "source": [
        "mc = ModelCheckpoint(os.path.join(run_logdir, 'RedeCNN_Tese_Full_F1.h5'), \n",
        "                     monitor='val_f1_score', \n",
        "                     mode='max', \n",
        "                     save_best_only=True,\n",
        "                     verbose=1)"
      ],
      "metadata": {
        "id": "sL7JYczgR4i0"
      },
      "execution_count": null,
      "outputs": []
    },
    {
      "cell_type": "markdown",
      "source": [
        "# 3: Preprocessing"
      ],
      "metadata": {
        "id": "A4fmolX-TP7y"
      }
    },
    {
      "cell_type": "markdown",
      "source": [
        "## 3.1: Loading data"
      ],
      "metadata": {
        "id": "KOmf5Af-OVcs"
      }
    },
    {
      "cell_type": "code",
      "source": [
        "# Loading gzip file\n",
        "npzfile = np.load(Le_path + \"/01_data/Img_X_Y.npz\")\n",
        "\n",
        "# Checking files inside zip file\n",
        "npzfile.files"
      ],
      "metadata": {
        "colab": {
          "base_uri": "https://localhost:8080/"
        },
        "id": "1iTSDHAmOwF-",
        "outputId": "2e367f7c-70b2-47ae-86af-2350649cdcc1"
      },
      "execution_count": null,
      "outputs": [
        {
          "output_type": "execute_result",
          "data": {
            "text/plain": [
              "['X_img_numpy', 'Y_lab_numpy', 'df_pandas']"
            ]
          },
          "metadata": {},
          "execution_count": 9
        }
      ]
    },
    {
      "cell_type": "markdown",
      "source": [],
      "metadata": {
        "id": "n7mJG2CUPjrK"
      }
    },
    {
      "cell_type": "code",
      "source": [
        "# Reading it position\n",
        "X = npzfile['X_img_numpy']\n",
        "Y = npzfile['Y_lab_numpy']\n",
        "IMG_df = pd.read_csv(Le_path + \"/01_data\"+'/01-lung-dataset-entry.csv')\n",
        "print('Tamanho base de treino X',np.shape(X))\n",
        "print('Tamanho base de treino Y',np.shape(Y))\n",
        "print('Tamanho base de treino Y',np.shape(IMG_df))"
      ],
      "metadata": {
        "colab": {
          "base_uri": "https://localhost:8080/"
        },
        "id": "ZnGCPBPMOYY_",
        "outputId": "9f0bb2e1-cbe0-46e8-bb86-07eb11ea1fdb"
      },
      "execution_count": null,
      "outputs": [
        {
          "output_type": "stream",
          "name": "stdout",
          "text": [
            "Tamanho base de treino X (193419, 256, 256)\n",
            "Tamanho base de treino Y (193419, 4)\n",
            "Tamanho base de treino Y (193419, 15)\n"
          ]
        }
      ]
    },
    {
      "cell_type": "code",
      "source": [
        "Y_labels = np.delete(Y, 0, 1)"
      ],
      "metadata": {
        "id": "4sEgW91fXYoF"
      },
      "execution_count": null,
      "outputs": []
    },
    {
      "cell_type": "markdown",
      "source": [
        "No preprocessing applyed in this situation"
      ],
      "metadata": {
        "id": "uV3Ss73aT8x6"
      }
    },
    {
      "cell_type": "markdown",
      "source": [
        "# 4: Training"
      ],
      "metadata": {
        "id": "VuvtmSM7MgFr"
      }
    },
    {
      "cell_type": "markdown",
      "source": [
        "## 4.1: Example cnn with 1 epoch"
      ],
      "metadata": {
        "id": "wMqD-tpMOY0-"
      }
    },
    {
      "cell_type": "code",
      "source": [
        "epochs_set     = 1\n",
        "batch_size_set = 32"
      ],
      "metadata": {
        "id": "aTDtROnXPiq_"
      },
      "execution_count": null,
      "outputs": []
    },
    {
      "cell_type": "code",
      "source": [
        "fold_test = 1\n",
        "fold_val  = 2 "
      ],
      "metadata": {
        "id": "O_Po7pt7Ua_-"
      },
      "execution_count": null,
      "outputs": []
    },
    {
      "cell_type": "markdown",
      "source": [],
      "metadata": {
        "id": "6C9PZq7AUsUv"
      }
    },
    {
      "cell_type": "code",
      "source": [
        "treino_info = IMG_df[\n",
        "    np.logical_not(\n",
        "        IMG_df.Bin.isin(\n",
        "            [fold_test, fold_val]\n",
        "            )\n",
        "       )\n",
        "    ]  \n",
        "treino_info.Bin.value_counts()"
      ],
      "metadata": {
        "colab": {
          "base_uri": "https://localhost:8080/"
        },
        "id": "H9kEj3cFUsFb",
        "outputId": "aa889b67-d2b9-49c1-f85d-41079347133b"
      },
      "execution_count": null,
      "outputs": [
        {
          "output_type": "execute_result",
          "data": {
            "text/plain": [
              "10    19498\n",
              "6     19482\n",
              "5     19431\n",
              "7     19398\n",
              "4     19327\n",
              "3     19281\n",
              "9     19232\n",
              "8     19148\n",
              "Name: Bin, dtype: int64"
            ]
          },
          "metadata": {},
          "execution_count": 25
        }
      ]
    },
    {
      "cell_type": "code",
      "source": [
        "# Selecting every index different of validation and training indexes\n",
        "train_index =  np.logical_not(\n",
        "     np.isin(Y[:,0],[fold_test, fold_val])\n",
        "  )\n",
        "\n",
        "# Selecting every index different of validation and training indexes\n",
        "val_index =  np.isin(Y[:,0],[fold_val])"
      ],
      "metadata": {
        "id": "k9wngs7ZXwmT"
      },
      "execution_count": null,
      "outputs": []
    },
    {
      "cell_type": "code",
      "source": [
        "def get_pesos(y_true): #taken from old keras source code\n",
        "    valores_classes=y_true['class_covid'].value_counts()\n",
        "#    print(valores_classes)\n",
        "    multiplo_comum = (valores_classes[0]*valores_classes[1]*valores_classes[2])/(1000*1000*1000)\n",
        "#    print(multiplo_comum)\n",
        "    valor = (multiplo_comum/valores_classes)\n",
        "    valor_total = np.sum(valor)\n",
        "    return (valor/valor_total)"
      ],
      "metadata": {
        "id": "ldllAz0iOeJZ"
      },
      "execution_count": null,
      "outputs": []
    },
    {
      "cell_type": "code",
      "source": [
        "testando_pesos=get_pesos(treino_info)\n",
        "print(testando_pesos)"
      ],
      "metadata": {
        "colab": {
          "base_uri": "https://localhost:8080/"
        },
        "id": "VVpIJojhOmbF",
        "outputId": "8fbe7d2d-b8ec-47da-db51-5cc20bfe9799"
      },
      "execution_count": null,
      "outputs": [
        {
          "output_type": "stream",
          "name": "stdout",
          "text": [
            "2:Covid-19     0.208505\n",
            "0:Normal       0.314558\n",
            "1:Pneumonia    0.476937\n",
            "Name: class_covid, dtype: float64\n"
          ]
        }
      ]
    },
    {
      "cell_type": "code",
      "source": [
        "class_weight = {0 : testando_pesos[0], 1 : testando_pesos[1], 2 : testando_pesos[2]}\n",
        "print(class_weight)"
      ],
      "metadata": {
        "colab": {
          "base_uri": "https://localhost:8080/"
        },
        "id": "iilksAYZOnhh",
        "outputId": "8c4f6509-2627-4218-b885-dc8220648416"
      },
      "execution_count": null,
      "outputs": [
        {
          "output_type": "stream",
          "name": "stdout",
          "text": [
            "{0: 0.20850476230725787, 1: 0.31455798279149805, 2: 0.47693725490124417}\n"
          ]
        }
      ]
    },
    {
      "cell_type": "markdown",
      "source": [],
      "metadata": {
        "id": "-WySFmPgbAyG"
      }
    },
    {
      "cell_type": "code",
      "source": [
        "batch_size_set = 32\n",
        "epochs_set= 2"
      ],
      "metadata": {
        "id": "muXV91_3jsrh"
      },
      "execution_count": null,
      "outputs": []
    },
    {
      "cell_type": "code",
      "source": [
        "CNN_model.fit(\n",
        "          X[train_index], \n",
        "          Y_labels[train_index],\n",
        "          validation_data=(X[val_index], Y_labels[val_index]),\n",
        "          epochs=epochs_set,\n",
        "          callbacks=[es,mc],\n",
        "          batch_size=batch_size_set,\n",
        "          validation_freq=1, \n",
        "          class_weight=class_weight)"
      ],
      "metadata": {
        "colab": {
          "base_uri": "https://localhost:8080/"
        },
        "id": "6bXUoUTeNnia",
        "outputId": "f0e81ca3-71e8-4545-cea2-86b8ca165397"
      },
      "execution_count": null,
      "outputs": [
        {
          "output_type": "stream",
          "name": "stdout",
          "text": [
            "Epoch 1/2\n",
            "4837/4838 [============================>.] - ETA: 0s - loss: 0.0575 - accuracy: 0.9276 - auc: 0.9891 - f1_score: 0.9273\n",
            "Epoch 1: val_f1_score did not improve from 0.93983\n",
            "4838/4838 [==============================] - 90s 19ms/step - loss: 0.0575 - accuracy: 0.9276 - auc: 0.9891 - f1_score: 0.9273 - val_loss: 0.4303 - val_accuracy: 0.8396 - val_auc: 0.9623 - val_f1_score: 0.8253\n",
            "Epoch 2/2\n",
            "4837/4838 [============================>.] - ETA: 0s - loss: 0.0481 - accuracy: 0.9401 - auc: 0.9922 - f1_score: 0.9398\n",
            "Epoch 2: val_f1_score improved from 0.93983 to 0.94757, saving model to /content/drive/MyDrive/01-projetos_colab/03-PHd/01-Covid_lung_deep/01-log/run_CNN_XeY_256_Weight_F1_2023_01_22-08_20_59/RedeCNN_Tese_Full_F1.h5\n",
            "4838/4838 [==============================] - 88s 18ms/step - loss: 0.0482 - accuracy: 0.9401 - auc: 0.9922 - f1_score: 0.9398 - val_loss: 0.1537 - val_accuracy: 0.9476 - val_auc: 0.9922 - val_f1_score: 0.9476\n"
          ]
        },
        {
          "output_type": "execute_result",
          "data": {
            "text/plain": [
              "<keras.callbacks.History at 0x7fb9d8537070>"
            ]
          },
          "metadata": {},
          "execution_count": 37
        }
      ]
    },
    {
      "cell_type": "code",
      "source": [
        "CNN_model.save(Le_path + \"/03_fitted_models/CNN_example\")"
      ],
      "metadata": {
        "colab": {
          "base_uri": "https://localhost:8080/"
        },
        "id": "eFmQ88CKMk1q",
        "outputId": "3e038cec-9fce-4ddc-94ec-31e76d30e18a"
      },
      "execution_count": null,
      "outputs": [
        {
          "output_type": "stream",
          "name": "stderr",
          "text": [
            "WARNING:absl:Found untraced functions such as _jit_compiled_convolution_op, _jit_compiled_convolution_op while saving (showing 2 of 2). These functions will not be directly callable after loading.\n"
          ]
        }
      ]
    },
    {
      "cell_type": "markdown",
      "source": [
        "## 4.2: K-fold cross validation"
      ],
      "metadata": {
        "id": "v51y2E0UNn_F"
      }
    }
  ]
}