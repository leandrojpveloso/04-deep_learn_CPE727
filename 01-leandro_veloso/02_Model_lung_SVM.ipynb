{
  "nbformat": 4,
  "nbformat_minor": 0,
  "metadata": {
    "colab": {
      "provenance": [],
      "machine_shape": "hm",
      "collapsed_sections": [
        "nYNQQC3mFRl2"
      ]
    },
    "kernelspec": {
      "name": "python3",
      "display_name": "Python 3"
    },
    "language_info": {
      "name": "python"
    },
    "gpuClass": "premium"
  },
  "cells": [
    {
      "cell_type": "markdown",
      "source": [
        "# **0: Summary**"
      ],
      "metadata": {
        "id": "nYNQQC3mFRl2"
      }
    },
    {
      "cell_type": "markdown",
      "source": [
        "Made by Leandro Veloso\n",
        "\n",
        "leandrojpveloso@gmail.com\n",
        "\n",
        "www.leandrojpveloso.com\n",
        "\n",
        "---\n",
        "This code applies the SVM model using tomography images from several hospitals in Brasil."
      ],
      "metadata": {
        "id": "l1EQTsZ6FmMU"
      }
    },
    {
      "cell_type": "markdown",
      "source": [
        "# 1: Setting up Python"
      ],
      "metadata": {
        "id": "hvxjpAJ9vLXp"
      }
    },
    {
      "cell_type": "markdown",
      "source": [
        "## 1.1: Basic package"
      ],
      "metadata": {
        "id": "cMDua07TzUUH"
      }
    },
    {
      "cell_type": "code",
      "execution_count": null,
      "metadata": {
        "id": "igGDdE1cvHZs"
      },
      "outputs": [],
      "source": [
        "import matplotlib.pyplot as plt   # plotting\n",
        "import numpy as np                # linear algebra\n",
        "import pandas as pd               # data processing, CSV file I/O (e.g. pd.read_csv)\n",
        "import os                         # accessing directory structure\n",
        "import pickle                     # reading pickle files format\n",
        "from google.colab import drive    # google drive conection\n",
        "import seaborn as sns             # graph bar"
      ]
    },
    {
      "cell_type": "markdown",
      "source": [
        "## 1.2 SVM packages"
      ],
      "metadata": {
        "id": "rPJfWKs3Gpgu"
      }
    },
    {
      "cell_type": "code",
      "source": [],
      "metadata": {
        "id": "nw8eBVHlHAA-"
      },
      "execution_count": null,
      "outputs": []
    },
    {
      "cell_type": "markdown",
      "source": [
        "## 1.2: Defyning path"
      ],
      "metadata": {
        "id": "vnSlTX9EvSvS"
      }
    },
    {
      "cell_type": "code",
      "source": [
        "# Monuting google drive - it request permission\n",
        "drive.mount('/content/drive')"
      ],
      "metadata": {
        "colab": {
          "base_uri": "https://localhost:8080/"
        },
        "id": "sHolFk8yzogz",
        "outputId": "9af3cbbb-8475-42f3-ed47-155d3d0cb9e5"
      },
      "execution_count": null,
      "outputs": [
        {
          "output_type": "stream",
          "name": "stdout",
          "text": [
            "Mounted at /content/drive\n"
          ]
        }
      ]
    },
    {
      "cell_type": "code",
      "source": [
        "# Alexandre's drive Path \n",
        "Alex_path = \"/content/drive/MyDrive/00-desorganizado/Dataset\"\n",
        "\n",
        "# Leandro path work\n",
        "Le_path   = \"/content/drive/MyDrive/01-projetos_colab/03-PHd/01-Covid_lung_deep\""
      ],
      "metadata": {
        "id": "jf76bcwovQAz"
      },
      "execution_count": null,
      "outputs": []
    },
    {
      "cell_type": "markdown",
      "source": [
        "## 1.3: Creating all folders of the project for outputs"
      ],
      "metadata": {
        "id": "vrCcnKUQzxZ_"
      }
    },
    {
      "cell_type": "markdown",
      "source": [
        "# 2: Data import"
      ],
      "metadata": {
        "id": "9LgSa8iBve17"
      }
    },
    {
      "cell_type": "code",
      "source": [
        "# Loading gzip file\n",
        "npzfile = np.load(Le_path + \"/01_data/Img_X_Y.npz\")\n",
        "\n",
        "# Checking files inside zip file\n",
        "npzfile.files"
      ],
      "metadata": {
        "id": "Rt_B63ITMpdA",
        "colab": {
          "base_uri": "https://localhost:8080/"
        },
        "outputId": "27d8c3bb-9852-4dd0-fd94-3e236e44d305"
      },
      "execution_count": null,
      "outputs": [
        {
          "output_type": "execute_result",
          "data": {
            "text/plain": [
              "['X_img_numpy', 'Y_lab_numpy']"
            ]
          },
          "metadata": {},
          "execution_count": 4
        }
      ]
    },
    {
      "cell_type": "code",
      "source": [
        "# Reading it position\n",
        "X = npzfile['X_img_numpy']\n",
        "Y = npzfile['Y_lab_numpy']\n",
        "IMG_df = pd.read_csv(Le_path + \"/01_data\"+'/01-lung-dataset-entry.csv')\n",
        "print('Tamanho base de treino X',np.shape(X))\n",
        "print('Tamanho base de treino Y',np.shape(Y))\n",
        "print('Tamanho base de treino Y',np.shape(IMG_df))"
      ],
      "metadata": {
        "colab": {
          "base_uri": "https://localhost:8080/"
        },
        "id": "hZvoLAHo0j1F",
        "outputId": "3ddbaa3a-80c5-4a42-df8d-21c868e0111e"
      },
      "execution_count": null,
      "outputs": [
        {
          "output_type": "stream",
          "name": "stdout",
          "text": [
            "Tamanho base de treino X (193419, 256, 256)\n",
            "Tamanho base de treino Y (193419, 4)\n",
            "Tamanho base de treino Y (193419, 15)\n"
          ]
        }
      ]
    },
    {
      "cell_type": "markdown",
      "source": [
        "## 2.4: Saving space"
      ],
      "metadata": {
        "id": "9cuBYvsn7Gzp"
      }
    },
    {
      "cell_type": "code",
      "source": [
        "# input list\n",
        "inputList = ['X_data', 'Y_data']\n",
        "\n",
        "# Removing all the items from the list\n",
        "inputList.clear()"
      ],
      "metadata": {
        "id": "--TNISfw7Kzt"
      },
      "execution_count": null,
      "outputs": []
    },
    {
      "cell_type": "code",
      "source": [
        "Y"
      ],
      "metadata": {
        "colab": {
          "base_uri": "https://localhost:8080/"
        },
        "id": "94th5Awd4GO0",
        "outputId": "815aa265-15aa-4a31-faf1-19fc199b8e62"
      },
      "execution_count": null,
      "outputs": [
        {
          "output_type": "execute_result",
          "data": {
            "text/plain": [
              "array([[ 1.,  0.,  0.,  1.],\n",
              "       [ 1.,  0.,  0.,  1.],\n",
              "       [ 1.,  0.,  0.,  1.],\n",
              "       ...,\n",
              "       [10.,  0.,  0.,  1.],\n",
              "       [10.,  0.,  0.,  1.],\n",
              "       [10.,  0.,  0.,  1.]])"
            ]
          },
          "metadata": {},
          "execution_count": 6
        }
      ]
    },
    {
      "cell_type": "markdown",
      "source": [
        "# 3: Grid search in the best CNN"
      ],
      "metadata": {
        "id": "3xxEPD2rqjlk"
      }
    },
    {
      "cell_type": "markdown",
      "source": [],
      "metadata": {
        "id": "r5JtqUcyqm4S"
      }
    },
    {
      "cell_type": "markdown",
      "source": [
        "# 4: SVM"
      ],
      "metadata": {
        "id": "a9Rj9rivqzqn"
      }
    },
    {
      "cell_type": "code",
      "source": [
        "fold_test = 1\n",
        "fold_val  = 2\n",
        "\n",
        "# Selecting every index different of validation and training indexes\n",
        "train_index_true =  np.logical_not(\n",
        "      np.isin(Y[:,1],[fold_test, fold_val])\n",
        ")\n",
        "\n",
        "# Selecting every index different of validation and training indexes\n",
        "val_index_true = np.isin(Y[:,1],[fold_val])"
      ],
      "metadata": {
        "id": "FgemOeiJ4VoA"
      },
      "execution_count": null,
      "outputs": []
    },
    {
      "cell_type": "code",
      "source": [
        "Y_label = np.delete(Y, 0, 1)"
      ],
      "metadata": {
        "id": "K9nrDm2z5PFe"
      },
      "execution_count": null,
      "outputs": []
    },
    {
      "cell_type": "code",
      "source": [
        "Y_label"
      ],
      "metadata": {
        "id": "8aQNrLg75R0_"
      },
      "execution_count": null,
      "outputs": []
    },
    {
      "cell_type": "code",
      "source": [
        "val_index   =[0,1,2,3,4,5,6,7,8,9]\n",
        "test_index  =[1,2,3,4,5,6,7,8,9,0]\n",
        "\n",
        "#for i in range(10):\n",
        "i=1\n",
        "print(test_index[i])\n",
        "\n",
        "fold_test = test_index[i]\n",
        "fold_val  = val_index[i]\n",
        "\n",
        "# Selecting every index different of validation and training indexes\n",
        "train_index_true =  np.logical_not(\n",
        "      np.isin(Y[:,1],[fold_test, fold_val])\n",
        ")\n",
        "\n",
        "# Selecting every index different of validation and training indexes\n",
        "val_index_true = np.isin(Y[:,1],[fold_val])\n",
        "\n",
        "# Getting indexes\n",
        "N_img_total      = len(Y) \n",
        "val_index        = np.arange(N_img_total)[val_index_true]\n",
        "train_index      = np.arange(N_img_total)[train_index_true]\n",
        "\n",
        "X_train = X[train_index]\n",
        "Y_train = Y_label[train_index]\n",
        "\n",
        "X_val = X[val_index]\n",
        "Y_val = Y_label[val_index]\n"
      ],
      "metadata": {
        "colab": {
          "base_uri": "https://localhost:8080/"
        },
        "id": "E9gc_4oCsgOL",
        "outputId": "20692a63-415b-4a63-a2e7-aaad2ee02dc1"
      },
      "execution_count": null,
      "outputs": [
        {
          "output_type": "stream",
          "name": "stdout",
          "text": [
            "2\n"
          ]
        }
      ]
    },
    {
      "cell_type": "code",
      "source": [],
      "metadata": {
        "id": "i5iw9MryI3Hl"
      },
      "execution_count": null,
      "outputs": []
    },
    {
      "cell_type": "code",
      "source": [
        "# We set random_state=0 for reproducibility \n",
        "linear_classifier = SGDClassifier(random_state=0)\n",
        "\n",
        "# Instantiate the GridSearchCV object and run the search\n",
        "parameters = {'alpha':[0.00001, 0.0001, 0.001, 0.01, 0.1, 1], \n",
        "             'loss':['hinge', 'log_loss']}\n",
        "searcher = GridSearchCV(linear_classifier, parameters, cv=10)\n",
        "searcher.fit(X_train, Y_train)\n"
      ],
      "metadata": {
        "colab": {
          "base_uri": "https://localhost:8080/",
          "height": 235
        },
        "id": "hwNQHTKj6o9n",
        "outputId": "7a201f55-fb64-494d-8cec-d344e1548a9f"
      },
      "execution_count": null,
      "outputs": [
        {
          "output_type": "error",
          "ename": "NameError",
          "evalue": "ignored",
          "traceback": [
            "\u001b[0;31m---------------------------------------------------------------------------\u001b[0m",
            "\u001b[0;31mNameError\u001b[0m                                 Traceback (most recent call last)",
            "\u001b[0;32m<ipython-input-18-9f7135ad51a4>\u001b[0m in \u001b[0;36m<module>\u001b[0;34m\u001b[0m\n\u001b[1;32m      1\u001b[0m \u001b[0;31m# We set random_state=0 for reproducibility\u001b[0m\u001b[0;34m\u001b[0m\u001b[0;34m\u001b[0m\u001b[0;34m\u001b[0m\u001b[0m\n\u001b[0;32m----> 2\u001b[0;31m \u001b[0mlinear_classifier\u001b[0m \u001b[0;34m=\u001b[0m \u001b[0mSGDClassifier\u001b[0m\u001b[0;34m(\u001b[0m\u001b[0mrandom_state\u001b[0m\u001b[0;34m=\u001b[0m\u001b[0;36m0\u001b[0m\u001b[0;34m)\u001b[0m\u001b[0;34m\u001b[0m\u001b[0;34m\u001b[0m\u001b[0m\n\u001b[0m\u001b[1;32m      3\u001b[0m \u001b[0;34m\u001b[0m\u001b[0m\n\u001b[1;32m      4\u001b[0m \u001b[0;31m# Instantiate the GridSearchCV object and run the search\u001b[0m\u001b[0;34m\u001b[0m\u001b[0;34m\u001b[0m\u001b[0;34m\u001b[0m\u001b[0m\n\u001b[1;32m      5\u001b[0m parameters = {'alpha':[0.00001, 0.0001, 0.001, 0.01, 0.1, 1], \n",
            "\u001b[0;31mNameError\u001b[0m: name 'SGDClassifier' is not defined"
          ]
        }
      ]
    },
    {
      "cell_type": "code",
      "source": [
        "\n",
        "print(i)  \n",
        "# buscando os conjuntos de treinamento e avaliação\n",
        "rfc = RandomForestClassifier()\n",
        "  \n",
        "# ajuste do modelo\n",
        "rfc.fit(X_train, y_train)\n",
        "  \n",
        "# Make predictions, and print the accuracy\n",
        "y_pred = rfc.predict(X_val)\n",
        "print('Fold: %i'%(ifold))\n",
        "print('Precision: ', precision_score(y_val, y_pred, average=\"macro\"))\n",
        "print('Recall: ', recall_score(y_val, y_pred, average=\"macro\"))\n",
        "precision_mat[ifold] = precision_score(y_val, y_pred, average=\"macro\")\n",
        "recall_mat[ifold] = recall_score(y_val, y_pred, average=\"macro\")\n",
        "\n",
        "\n",
        "from IPython.display import display, Latex\n",
        "\n",
        "display(Latex(f'$CV\\ Precision: %1.3f \\pm %1.3f$'%(precision_mat.mean(),precision_mat.std())))\n",
        "display(Latex(f'$CV\\ Recall: %1.3f \\pm %1.3f$'%(recall_mat.mean(),recall_mat.std())))"
      ],
      "metadata": {
        "id": "sgfLR8J96nfg"
      },
      "execution_count": null,
      "outputs": []
    },
    {
      "cell_type": "code",
      "source": [
        "for i in range(10):\n",
        "  \n",
        "  print(val_index)  \n",
        "  # buscando os conjuntos de treinamento e avaliação\n",
        "  X_train, y_train = pd.get_dummies(X.loc[train_index,:]), y.loc[train_index]\n",
        "  X_val, y_val = pd.get_dummies(X.loc[val_index,:]), y.loc[val_index]\n",
        "  \n",
        "  rfc = RandomForestClassifier()\n",
        "    \n",
        "  # ajuste do modelo\n",
        "  rfc.fit(X_train, y_train)\n",
        "    \n",
        "  # Make predictions, and print the accuracy\n",
        "  y_pred = rfc.predict(X_val)\n",
        "  print('Fold: %i'%(ifold))\n",
        "  print('Precision: ', precision_score(y_val, y_pred, average=\"macro\"))\n",
        "  print('Recall: ', recall_score(y_val, y_pred, average=\"macro\"))\n",
        "  precision_mat[ifold] = precision_score(y_val, y_pred, average=\"macro\")\n",
        "  recall_mat[ifold] = recall_score(y_val, y_pred, average=\"macro\")\n",
        "\n",
        "\n",
        "from IPython.display import display, Latex\n",
        "\n",
        "display(Latex(f'$CV\\ Precision: %1.3f \\pm %1.3f$'%(precision_mat.mean(),precision_mat.std())))\n",
        "display(Latex(f'$CV\\ Recall: %1.3f \\pm %1.3f$'%(recall_mat.mean(),recall_mat.std())))"
      ],
      "metadata": {
        "id": "8LiIi2Rfsds0"
      },
      "execution_count": null,
      "outputs": []
    }
  ]
}