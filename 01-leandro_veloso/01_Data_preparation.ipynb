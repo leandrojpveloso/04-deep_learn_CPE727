{
  "nbformat": 4,
  "nbformat_minor": 0,
  "metadata": {
    "colab": {
      "provenance": [],
      "machine_shape": "hm",
      "collapsed_sections": [
        "FH16AVRWk8md"
      ]
    },
    "kernelspec": {
      "name": "python3",
      "display_name": "Python 3"
    },
    "language_info": {
      "name": "python"
    },
    "accelerator": "GPU",
    "gpuClass": "premium",
    "widgets": {
      "application/vnd.jupyter.widget-state+json": {
        "841ef3f9f89f4cf482d88c004a228ace": {
          "model_module": "@jupyter-widgets/controls",
          "model_name": "HBoxModel",
          "model_module_version": "1.5.0",
          "state": {
            "_dom_classes": [],
            "_model_module": "@jupyter-widgets/controls",
            "_model_module_version": "1.5.0",
            "_model_name": "HBoxModel",
            "_view_count": null,
            "_view_module": "@jupyter-widgets/controls",
            "_view_module_version": "1.5.0",
            "_view_name": "HBoxView",
            "box_style": "",
            "children": [
              "IPY_MODEL_75dc3ea1cd394c28b0507a008c254fff",
              "IPY_MODEL_d1330925cffb4848be3252e2c6a1d84a",
              "IPY_MODEL_1d162be4457249b2b37207d51151da7e"
            ],
            "layout": "IPY_MODEL_ea636910791d46cfb1f442a627024ffb"
          }
        },
        "75dc3ea1cd394c28b0507a008c254fff": {
          "model_module": "@jupyter-widgets/controls",
          "model_name": "HTMLModel",
          "model_module_version": "1.5.0",
          "state": {
            "_dom_classes": [],
            "_model_module": "@jupyter-widgets/controls",
            "_model_module_version": "1.5.0",
            "_model_name": "HTMLModel",
            "_view_count": null,
            "_view_module": "@jupyter-widgets/controls",
            "_view_module_version": "1.5.0",
            "_view_name": "HTMLView",
            "description": "",
            "description_tooltip": null,
            "layout": "IPY_MODEL_e838b3b509a44cac9fc6909bf1a3ed90",
            "placeholder": "​",
            "style": "IPY_MODEL_c772dcfff5e7492285af1bb0d7650937",
            "value": "Generating train split: "
          }
        },
        "d1330925cffb4848be3252e2c6a1d84a": {
          "model_module": "@jupyter-widgets/controls",
          "model_name": "FloatProgressModel",
          "model_module_version": "1.5.0",
          "state": {
            "_dom_classes": [],
            "_model_module": "@jupyter-widgets/controls",
            "_model_module_version": "1.5.0",
            "_model_name": "FloatProgressModel",
            "_view_count": null,
            "_view_module": "@jupyter-widgets/controls",
            "_view_module_version": "1.5.0",
            "_view_name": "ProgressView",
            "bar_style": "info",
            "description": "",
            "description_tooltip": null,
            "layout": "IPY_MODEL_993b1b6ea7f54e01b5b4bb13418155a1",
            "max": 1,
            "min": 0,
            "orientation": "horizontal",
            "style": "IPY_MODEL_6a19a51f1c104cb194c606931b026bdc",
            "value": 1
          }
        },
        "1d162be4457249b2b37207d51151da7e": {
          "model_module": "@jupyter-widgets/controls",
          "model_name": "HTMLModel",
          "model_module_version": "1.5.0",
          "state": {
            "_dom_classes": [],
            "_model_module": "@jupyter-widgets/controls",
            "_model_module_version": "1.5.0",
            "_model_name": "HTMLModel",
            "_view_count": null,
            "_view_module": "@jupyter-widgets/controls",
            "_view_module_version": "1.5.0",
            "_view_name": "HTMLView",
            "description": "",
            "description_tooltip": null,
            "layout": "IPY_MODEL_d142db8f16cf453aaebf8c67391a26d0",
            "placeholder": "​",
            "style": "IPY_MODEL_628c448ac17240b2819d1fc5a72aafba",
            "value": " 193418/0 [06:00&lt;00:00, 558.88 examples/s]"
          }
        },
        "ea636910791d46cfb1f442a627024ffb": {
          "model_module": "@jupyter-widgets/base",
          "model_name": "LayoutModel",
          "model_module_version": "1.2.0",
          "state": {
            "_model_module": "@jupyter-widgets/base",
            "_model_module_version": "1.2.0",
            "_model_name": "LayoutModel",
            "_view_count": null,
            "_view_module": "@jupyter-widgets/base",
            "_view_module_version": "1.2.0",
            "_view_name": "LayoutView",
            "align_content": null,
            "align_items": null,
            "align_self": null,
            "border": null,
            "bottom": null,
            "display": null,
            "flex": null,
            "flex_flow": null,
            "grid_area": null,
            "grid_auto_columns": null,
            "grid_auto_flow": null,
            "grid_auto_rows": null,
            "grid_column": null,
            "grid_gap": null,
            "grid_row": null,
            "grid_template_areas": null,
            "grid_template_columns": null,
            "grid_template_rows": null,
            "height": null,
            "justify_content": null,
            "justify_items": null,
            "left": null,
            "margin": null,
            "max_height": null,
            "max_width": null,
            "min_height": null,
            "min_width": null,
            "object_fit": null,
            "object_position": null,
            "order": null,
            "overflow": null,
            "overflow_x": null,
            "overflow_y": null,
            "padding": null,
            "right": null,
            "top": null,
            "visibility": null,
            "width": null
          }
        },
        "e838b3b509a44cac9fc6909bf1a3ed90": {
          "model_module": "@jupyter-widgets/base",
          "model_name": "LayoutModel",
          "model_module_version": "1.2.0",
          "state": {
            "_model_module": "@jupyter-widgets/base",
            "_model_module_version": "1.2.0",
            "_model_name": "LayoutModel",
            "_view_count": null,
            "_view_module": "@jupyter-widgets/base",
            "_view_module_version": "1.2.0",
            "_view_name": "LayoutView",
            "align_content": null,
            "align_items": null,
            "align_self": null,
            "border": null,
            "bottom": null,
            "display": null,
            "flex": null,
            "flex_flow": null,
            "grid_area": null,
            "grid_auto_columns": null,
            "grid_auto_flow": null,
            "grid_auto_rows": null,
            "grid_column": null,
            "grid_gap": null,
            "grid_row": null,
            "grid_template_areas": null,
            "grid_template_columns": null,
            "grid_template_rows": null,
            "height": null,
            "justify_content": null,
            "justify_items": null,
            "left": null,
            "margin": null,
            "max_height": null,
            "max_width": null,
            "min_height": null,
            "min_width": null,
            "object_fit": null,
            "object_position": null,
            "order": null,
            "overflow": null,
            "overflow_x": null,
            "overflow_y": null,
            "padding": null,
            "right": null,
            "top": null,
            "visibility": null,
            "width": null
          }
        },
        "c772dcfff5e7492285af1bb0d7650937": {
          "model_module": "@jupyter-widgets/controls",
          "model_name": "DescriptionStyleModel",
          "model_module_version": "1.5.0",
          "state": {
            "_model_module": "@jupyter-widgets/controls",
            "_model_module_version": "1.5.0",
            "_model_name": "DescriptionStyleModel",
            "_view_count": null,
            "_view_module": "@jupyter-widgets/base",
            "_view_module_version": "1.2.0",
            "_view_name": "StyleView",
            "description_width": ""
          }
        },
        "993b1b6ea7f54e01b5b4bb13418155a1": {
          "model_module": "@jupyter-widgets/base",
          "model_name": "LayoutModel",
          "model_module_version": "1.2.0",
          "state": {
            "_model_module": "@jupyter-widgets/base",
            "_model_module_version": "1.2.0",
            "_model_name": "LayoutModel",
            "_view_count": null,
            "_view_module": "@jupyter-widgets/base",
            "_view_module_version": "1.2.0",
            "_view_name": "LayoutView",
            "align_content": null,
            "align_items": null,
            "align_self": null,
            "border": null,
            "bottom": null,
            "display": null,
            "flex": null,
            "flex_flow": null,
            "grid_area": null,
            "grid_auto_columns": null,
            "grid_auto_flow": null,
            "grid_auto_rows": null,
            "grid_column": null,
            "grid_gap": null,
            "grid_row": null,
            "grid_template_areas": null,
            "grid_template_columns": null,
            "grid_template_rows": null,
            "height": null,
            "justify_content": null,
            "justify_items": null,
            "left": null,
            "margin": null,
            "max_height": null,
            "max_width": null,
            "min_height": null,
            "min_width": null,
            "object_fit": null,
            "object_position": null,
            "order": null,
            "overflow": null,
            "overflow_x": null,
            "overflow_y": null,
            "padding": null,
            "right": null,
            "top": null,
            "visibility": null,
            "width": "20px"
          }
        },
        "6a19a51f1c104cb194c606931b026bdc": {
          "model_module": "@jupyter-widgets/controls",
          "model_name": "ProgressStyleModel",
          "model_module_version": "1.5.0",
          "state": {
            "_model_module": "@jupyter-widgets/controls",
            "_model_module_version": "1.5.0",
            "_model_name": "ProgressStyleModel",
            "_view_count": null,
            "_view_module": "@jupyter-widgets/base",
            "_view_module_version": "1.2.0",
            "_view_name": "StyleView",
            "bar_color": null,
            "description_width": ""
          }
        },
        "d142db8f16cf453aaebf8c67391a26d0": {
          "model_module": "@jupyter-widgets/base",
          "model_name": "LayoutModel",
          "model_module_version": "1.2.0",
          "state": {
            "_model_module": "@jupyter-widgets/base",
            "_model_module_version": "1.2.0",
            "_model_name": "LayoutModel",
            "_view_count": null,
            "_view_module": "@jupyter-widgets/base",
            "_view_module_version": "1.2.0",
            "_view_name": "LayoutView",
            "align_content": null,
            "align_items": null,
            "align_self": null,
            "border": null,
            "bottom": null,
            "display": null,
            "flex": null,
            "flex_flow": null,
            "grid_area": null,
            "grid_auto_columns": null,
            "grid_auto_flow": null,
            "grid_auto_rows": null,
            "grid_column": null,
            "grid_gap": null,
            "grid_row": null,
            "grid_template_areas": null,
            "grid_template_columns": null,
            "grid_template_rows": null,
            "height": null,
            "justify_content": null,
            "justify_items": null,
            "left": null,
            "margin": null,
            "max_height": null,
            "max_width": null,
            "min_height": null,
            "min_width": null,
            "object_fit": null,
            "object_position": null,
            "order": null,
            "overflow": null,
            "overflow_x": null,
            "overflow_y": null,
            "padding": null,
            "right": null,
            "top": null,
            "visibility": null,
            "width": null
          }
        },
        "628c448ac17240b2819d1fc5a72aafba": {
          "model_module": "@jupyter-widgets/controls",
          "model_name": "DescriptionStyleModel",
          "model_module_version": "1.5.0",
          "state": {
            "_model_module": "@jupyter-widgets/controls",
            "_model_module_version": "1.5.0",
            "_model_name": "DescriptionStyleModel",
            "_view_count": null,
            "_view_module": "@jupyter-widgets/base",
            "_view_module_version": "1.2.0",
            "_view_name": "StyleView",
            "description_width": ""
          }
        },
        "1b01dd78f55e4aaf9041df889c9d15dc": {
          "model_module": "@jupyter-widgets/controls",
          "model_name": "HBoxModel",
          "model_module_version": "1.5.0",
          "state": {
            "_dom_classes": [],
            "_model_module": "@jupyter-widgets/controls",
            "_model_module_version": "1.5.0",
            "_model_name": "HBoxModel",
            "_view_count": null,
            "_view_module": "@jupyter-widgets/controls",
            "_view_module_version": "1.5.0",
            "_view_name": "HBoxView",
            "box_style": "",
            "children": [
              "IPY_MODEL_9e6e36a34051411a8ce301db1581f33e",
              "IPY_MODEL_d4ba5851c9bb4ab183c31a4eac19941a",
              "IPY_MODEL_4d2a8154ba604db9bcb66e0093352f59"
            ],
            "layout": "IPY_MODEL_e30a074516dd43e88cd99e6593f8779e"
          }
        },
        "9e6e36a34051411a8ce301db1581f33e": {
          "model_module": "@jupyter-widgets/controls",
          "model_name": "HTMLModel",
          "model_module_version": "1.5.0",
          "state": {
            "_dom_classes": [],
            "_model_module": "@jupyter-widgets/controls",
            "_model_module_version": "1.5.0",
            "_model_name": "HTMLModel",
            "_view_count": null,
            "_view_module": "@jupyter-widgets/controls",
            "_view_module_version": "1.5.0",
            "_view_name": "HTMLView",
            "description": "",
            "description_tooltip": null,
            "layout": "IPY_MODEL_37ec3611f3ea420686adc2d62778fda5",
            "placeholder": "​",
            "style": "IPY_MODEL_5ee62316636443fbac59651532f81438",
            "value": "Saving the dataset (178/178 shards): 100%"
          }
        },
        "d4ba5851c9bb4ab183c31a4eac19941a": {
          "model_module": "@jupyter-widgets/controls",
          "model_name": "FloatProgressModel",
          "model_module_version": "1.5.0",
          "state": {
            "_dom_classes": [],
            "_model_module": "@jupyter-widgets/controls",
            "_model_module_version": "1.5.0",
            "_model_name": "FloatProgressModel",
            "_view_count": null,
            "_view_module": "@jupyter-widgets/controls",
            "_view_module_version": "1.5.0",
            "_view_name": "ProgressView",
            "bar_style": "",
            "description": "",
            "description_tooltip": null,
            "layout": "IPY_MODEL_7b1bb388476440e0a0874f97a7c04788",
            "max": 193418,
            "min": 0,
            "orientation": "horizontal",
            "style": "IPY_MODEL_c28f16811331467f9bb4decb9c5e6975",
            "value": 193418
          }
        },
        "4d2a8154ba604db9bcb66e0093352f59": {
          "model_module": "@jupyter-widgets/controls",
          "model_name": "HTMLModel",
          "model_module_version": "1.5.0",
          "state": {
            "_dom_classes": [],
            "_model_module": "@jupyter-widgets/controls",
            "_model_module_version": "1.5.0",
            "_model_name": "HTMLModel",
            "_view_count": null,
            "_view_module": "@jupyter-widgets/controls",
            "_view_module_version": "1.5.0",
            "_view_name": "HTMLView",
            "description": "",
            "description_tooltip": null,
            "layout": "IPY_MODEL_fe5094c28ff54629beace333c012b15a",
            "placeholder": "​",
            "style": "IPY_MODEL_63a6f07512074277be8f24486fa0c232",
            "value": " 193418/193418 [20:50&lt;00:00, 312.13 examples/s]"
          }
        },
        "e30a074516dd43e88cd99e6593f8779e": {
          "model_module": "@jupyter-widgets/base",
          "model_name": "LayoutModel",
          "model_module_version": "1.2.0",
          "state": {
            "_model_module": "@jupyter-widgets/base",
            "_model_module_version": "1.2.0",
            "_model_name": "LayoutModel",
            "_view_count": null,
            "_view_module": "@jupyter-widgets/base",
            "_view_module_version": "1.2.0",
            "_view_name": "LayoutView",
            "align_content": null,
            "align_items": null,
            "align_self": null,
            "border": null,
            "bottom": null,
            "display": null,
            "flex": null,
            "flex_flow": null,
            "grid_area": null,
            "grid_auto_columns": null,
            "grid_auto_flow": null,
            "grid_auto_rows": null,
            "grid_column": null,
            "grid_gap": null,
            "grid_row": null,
            "grid_template_areas": null,
            "grid_template_columns": null,
            "grid_template_rows": null,
            "height": null,
            "justify_content": null,
            "justify_items": null,
            "left": null,
            "margin": null,
            "max_height": null,
            "max_width": null,
            "min_height": null,
            "min_width": null,
            "object_fit": null,
            "object_position": null,
            "order": null,
            "overflow": null,
            "overflow_x": null,
            "overflow_y": null,
            "padding": null,
            "right": null,
            "top": null,
            "visibility": null,
            "width": null
          }
        },
        "37ec3611f3ea420686adc2d62778fda5": {
          "model_module": "@jupyter-widgets/base",
          "model_name": "LayoutModel",
          "model_module_version": "1.2.0",
          "state": {
            "_model_module": "@jupyter-widgets/base",
            "_model_module_version": "1.2.0",
            "_model_name": "LayoutModel",
            "_view_count": null,
            "_view_module": "@jupyter-widgets/base",
            "_view_module_version": "1.2.0",
            "_view_name": "LayoutView",
            "align_content": null,
            "align_items": null,
            "align_self": null,
            "border": null,
            "bottom": null,
            "display": null,
            "flex": null,
            "flex_flow": null,
            "grid_area": null,
            "grid_auto_columns": null,
            "grid_auto_flow": null,
            "grid_auto_rows": null,
            "grid_column": null,
            "grid_gap": null,
            "grid_row": null,
            "grid_template_areas": null,
            "grid_template_columns": null,
            "grid_template_rows": null,
            "height": null,
            "justify_content": null,
            "justify_items": null,
            "left": null,
            "margin": null,
            "max_height": null,
            "max_width": null,
            "min_height": null,
            "min_width": null,
            "object_fit": null,
            "object_position": null,
            "order": null,
            "overflow": null,
            "overflow_x": null,
            "overflow_y": null,
            "padding": null,
            "right": null,
            "top": null,
            "visibility": null,
            "width": null
          }
        },
        "5ee62316636443fbac59651532f81438": {
          "model_module": "@jupyter-widgets/controls",
          "model_name": "DescriptionStyleModel",
          "model_module_version": "1.5.0",
          "state": {
            "_model_module": "@jupyter-widgets/controls",
            "_model_module_version": "1.5.0",
            "_model_name": "DescriptionStyleModel",
            "_view_count": null,
            "_view_module": "@jupyter-widgets/base",
            "_view_module_version": "1.2.0",
            "_view_name": "StyleView",
            "description_width": ""
          }
        },
        "7b1bb388476440e0a0874f97a7c04788": {
          "model_module": "@jupyter-widgets/base",
          "model_name": "LayoutModel",
          "model_module_version": "1.2.0",
          "state": {
            "_model_module": "@jupyter-widgets/base",
            "_model_module_version": "1.2.0",
            "_model_name": "LayoutModel",
            "_view_count": null,
            "_view_module": "@jupyter-widgets/base",
            "_view_module_version": "1.2.0",
            "_view_name": "LayoutView",
            "align_content": null,
            "align_items": null,
            "align_self": null,
            "border": null,
            "bottom": null,
            "display": null,
            "flex": null,
            "flex_flow": null,
            "grid_area": null,
            "grid_auto_columns": null,
            "grid_auto_flow": null,
            "grid_auto_rows": null,
            "grid_column": null,
            "grid_gap": null,
            "grid_row": null,
            "grid_template_areas": null,
            "grid_template_columns": null,
            "grid_template_rows": null,
            "height": null,
            "justify_content": null,
            "justify_items": null,
            "left": null,
            "margin": null,
            "max_height": null,
            "max_width": null,
            "min_height": null,
            "min_width": null,
            "object_fit": null,
            "object_position": null,
            "order": null,
            "overflow": null,
            "overflow_x": null,
            "overflow_y": null,
            "padding": null,
            "right": null,
            "top": null,
            "visibility": null,
            "width": null
          }
        },
        "c28f16811331467f9bb4decb9c5e6975": {
          "model_module": "@jupyter-widgets/controls",
          "model_name": "ProgressStyleModel",
          "model_module_version": "1.5.0",
          "state": {
            "_model_module": "@jupyter-widgets/controls",
            "_model_module_version": "1.5.0",
            "_model_name": "ProgressStyleModel",
            "_view_count": null,
            "_view_module": "@jupyter-widgets/base",
            "_view_module_version": "1.2.0",
            "_view_name": "StyleView",
            "bar_color": null,
            "description_width": ""
          }
        },
        "fe5094c28ff54629beace333c012b15a": {
          "model_module": "@jupyter-widgets/base",
          "model_name": "LayoutModel",
          "model_module_version": "1.2.0",
          "state": {
            "_model_module": "@jupyter-widgets/base",
            "_model_module_version": "1.2.0",
            "_model_name": "LayoutModel",
            "_view_count": null,
            "_view_module": "@jupyter-widgets/base",
            "_view_module_version": "1.2.0",
            "_view_name": "LayoutView",
            "align_content": null,
            "align_items": null,
            "align_self": null,
            "border": null,
            "bottom": null,
            "display": null,
            "flex": null,
            "flex_flow": null,
            "grid_area": null,
            "grid_auto_columns": null,
            "grid_auto_flow": null,
            "grid_auto_rows": null,
            "grid_column": null,
            "grid_gap": null,
            "grid_row": null,
            "grid_template_areas": null,
            "grid_template_columns": null,
            "grid_template_rows": null,
            "height": null,
            "justify_content": null,
            "justify_items": null,
            "left": null,
            "margin": null,
            "max_height": null,
            "max_width": null,
            "min_height": null,
            "min_width": null,
            "object_fit": null,
            "object_position": null,
            "order": null,
            "overflow": null,
            "overflow_x": null,
            "overflow_y": null,
            "padding": null,
            "right": null,
            "top": null,
            "visibility": null,
            "width": null
          }
        },
        "63a6f07512074277be8f24486fa0c232": {
          "model_module": "@jupyter-widgets/controls",
          "model_name": "DescriptionStyleModel",
          "model_module_version": "1.5.0",
          "state": {
            "_model_module": "@jupyter-widgets/controls",
            "_model_module_version": "1.5.0",
            "_model_name": "DescriptionStyleModel",
            "_view_count": null,
            "_view_module": "@jupyter-widgets/base",
            "_view_module_version": "1.2.0",
            "_view_name": "StyleView",
            "description_width": ""
          }
        }
      }
    }
  },
  "cells": [
    {
      "cell_type": "markdown",
      "source": [
        "# 1: Setting up Python"
      ],
      "metadata": {
        "id": "hvxjpAJ9vLXp"
      }
    },
    {
      "cell_type": "markdown",
      "source": [
        "## 1.1: Package requirements"
      ],
      "metadata": {
        "id": "cMDua07TzUUH"
      }
    },
    {
      "cell_type": "code",
      "source": [
        "!pip install tqdm\n",
        "!pip install transformers datasets\n",
        "!pip install torchinfo"
      ],
      "metadata": {
        "id": "L00Y6cNTuePb"
      },
      "execution_count": null,
      "outputs": []
    },
    {
      "cell_type": "code",
      "execution_count": null,
      "metadata": {
        "id": "igGDdE1cvHZs"
      },
      "outputs": [],
      "source": [
        "import matplotlib.pyplot as plt   # plotting\n",
        "import numpy as np                # linear algebra\n",
        "import pandas as pd               # data processing, CSV file I/O (e.g. pd.read_csv)\n",
        "import os                         # accessing directory structure\n",
        "import pickle                     # reading pickle files format\n",
        "from google.colab import drive    # google drive conection\n",
        "import seaborn as sns             # graph bar"
      ]
    },
    {
      "cell_type": "code",
      "source": [
        "import torch\n",
        "from datasets import Array3D, ClassLabel, Features, load_dataset\n",
        "from torchinfo import summary\n",
        "from transformers import AdamW, ViTFeatureExtractor, ViTModel\n",
        "import tensorflow as tf"
      ],
      "metadata": {
        "id": "rmGxVlzSuEog"
      },
      "execution_count": null,
      "outputs": []
    },
    {
      "cell_type": "markdown",
      "source": [
        "## 1.2: Defyning path"
      ],
      "metadata": {
        "id": "vnSlTX9EvSvS"
      }
    },
    {
      "cell_type": "code",
      "source": [
        "# Monuting google drive - it request permission\n",
        "drive.mount('/content/drive')"
      ],
      "metadata": {
        "colab": {
          "base_uri": "https://localhost:8080/"
        },
        "id": "sHolFk8yzogz",
        "outputId": "08ba64ce-9e09-4e5f-803a-9743d1bc5300"
      },
      "execution_count": null,
      "outputs": [
        {
          "output_type": "stream",
          "name": "stdout",
          "text": [
            "Mounted at /content/drive\n"
          ]
        }
      ]
    },
    {
      "cell_type": "code",
      "source": [
        "# Alexandre's drive Path \n",
        "Alex_path = \"/content/drive/MyDrive/00-desorganizado/Dataset\"\n",
        "\n",
        "# Leandro path work\n",
        "Le_path   = \"/content/drive/MyDrive/01-projetos_colab/03-PHd/01-Covid_lung_deep\""
      ],
      "metadata": {
        "id": "jf76bcwovQAz"
      },
      "execution_count": null,
      "outputs": []
    },
    {
      "cell_type": "markdown",
      "source": [
        "## 1.3: Creating all folders of the project for outputs"
      ],
      "metadata": {
        "id": "vrCcnKUQzxZ_"
      }
    },
    {
      "cell_type": "code",
      "source": [
        "help(os.mkdir)"
      ],
      "metadata": {
        "id": "wHZd3Zo61Jju",
        "colab": {
          "base_uri": "https://localhost:8080/"
        },
        "outputId": "4261119d-a424-4e2f-926f-8c9ba8320979"
      },
      "execution_count": null,
      "outputs": [
        {
          "output_type": "stream",
          "name": "stdout",
          "text": [
            "Help on built-in function mkdir in module posix:\n",
            "\n",
            "mkdir(path, mode=511, *, dir_fd=None)\n",
            "    Create a directory.\n",
            "    \n",
            "    If dir_fd is not None, it should be a file descriptor open to a directory,\n",
            "      and path should be relative; path will then be relative to that directory.\n",
            "    dir_fd may not be implemented on your platform.\n",
            "      If it is unavailable, using it will raise a NotImplementedError.\n",
            "    \n",
            "    The mode argument is ignored on Windows.\n",
            "\n"
          ]
        }
      ]
    },
    {
      "cell_type": "code",
      "source": [
        "# Foder to save data\n",
        "try: \n",
        "    os.mkdir(Le_path + \"/01_data\")\n",
        "    print(\"Folder created-01_data\")\n",
        "except OSError as error: \n",
        "    print(\"Folder exists-01_data\")\n",
        "\n",
        "# Foder to save graphs and stats\n",
        "try: \n",
        "    os.mkdir(Le_path + \"/02_stats\")\n",
        "    print(\"Folder created-02_stats\")\n",
        "except OSError as error: \n",
        "    print(\"Folder exists-02_stats\")\n",
        "    \n",
        "# Foder to save models\n",
        "try: \n",
        "    os.mkdir(Le_path + \"/03_fitted_models\")\n",
        "    print(\"Folder created-03_fitted_models\")\n",
        "except OSError as error: \n",
        "    print(\"Folder exists-03_fitted_models\")\n",
        "\n",
        "# Foder to save models\n",
        "try: \n",
        "    os.mkdir(Le_path + \"/04_model_evaluation\")\n",
        "    print(\"Folder created-04_model_evaluation\")\n",
        "except OSError as error: \n",
        "    print(\"Folder exists-04_model_evaluation\")"
      ],
      "metadata": {
        "colab": {
          "base_uri": "https://localhost:8080/"
        },
        "id": "KSyKB0jkz3rY",
        "outputId": "82c97a0c-514e-45dc-96fe-ba44523cd105"
      },
      "execution_count": null,
      "outputs": [
        {
          "output_type": "stream",
          "name": "stdout",
          "text": [
            "Folder exists-01_data\n",
            "Folder exists-02_stats\n",
            "Folder exists-03_fitted_models\n",
            "Folder exists-04_model_evaluation\n"
          ]
        }
      ]
    },
    {
      "cell_type": "markdown",
      "source": [
        "# 2: Data import"
      ],
      "metadata": {
        "id": "9LgSa8iBve17"
      }
    },
    {
      "cell_type": "markdown",
      "source": [
        "## 2.1: Allocating bins to set fold"
      ],
      "metadata": {
        "id": "v4AYUuNMv7d6"
      }
    },
    {
      "cell_type": "code",
      "source": [
        "j=0\n",
        "lista_diretorios=[]\n",
        "for i in range(1,11):\n",
        "  print(\"Reading \"+ str(i))\n",
        "  with open(Alex_path +'/pickled_X_data_256x256_fold'+str(i)+'.pickle', 'rb') as f:    \n",
        "      X_data_aux = np.array(pickle.load(f))\n",
        "  with open(Alex_path +'/pickled_Y_data_fold'+str(i)+'.pickle', 'rb') as f:    \n",
        "      Y_data_aux = np.array(pickle.load(f))\n",
        "      N_Y = len(Y_data_aux)\n",
        "      Y_data_aux= np.append(np.full((N_Y,1), i),Y_data_aux, axis=1)\n",
        "      \n",
        "  if j == 0 :\n",
        "      X_data = X_data_aux\n",
        "      Y_data = Y_data_aux\n",
        "  else:\n",
        "      X_data = np.concatenate((X_data , X_data_aux),axis=0)\n",
        "      Y_data = np.concatenate((Y_data , Y_data_aux),axis=0)\n",
        "\n",
        "  j=j+1\n",
        "\n",
        "  lista_diretorios= np.append(lista_diretorios ,(Alex_path +'/Bins/Bin'+str(i)))\n",
        "\n",
        "print('Tamanho base de treino X',len(X_data))\n",
        "print('Tamanho base de treino Y',len(Y_data))\n"
      ],
      "metadata": {
        "id": "yN_MBIXtv4Hr"
      },
      "execution_count": null,
      "outputs": []
    },
    {
      "cell_type": "markdown",
      "source": [
        "## 2.2: Dataframe associated to img"
      ],
      "metadata": {
        "id": "FZMIrqIxQ_tz"
      }
    },
    {
      "cell_type": "code",
      "source": [
        "# reaading using pandas\n",
        "all_img_df = pd.read_csv(Le_path + \"/01_data\"+'/01-lung-dataset-entry.csv')\n",
        "\n",
        "print('***** Base com todas as imagens *****')\n",
        "print(all_img_df['class_covid'].value_counts())\n",
        "\n",
        "all_img_df.sample(3)"
      ],
      "metadata": {
        "colab": {
          "base_uri": "https://localhost:8080/",
          "height": 294
        },
        "id": "VL4Su3aXOyqH",
        "outputId": "83052971-1804-4881-81f7-d1c238d3fc9f"
      },
      "execution_count": null,
      "outputs": [
        {
          "output_type": "stream",
          "name": "stdout",
          "text": [
            "***** Base com todas as imagens *****\n",
            "2:Covid-19     92288\n",
            "0:Normal       60840\n",
            "1:Pneumonia    40291\n",
            "Name: class_covid, dtype: int64\n"
          ]
        },
        {
          "output_type": "execute_result",
          "data": {
            "text/plain": [
              "                       filename  class_covid source_data       id_num  \\\n",
              "45133     NCP_187_1518_0061.png   2:Covid-19        CNCB      NCP_187   \n",
              "37398      CP_693_3055_0120.png  1:Pneumonia        CNCB       CP_693   \n",
              "75163  Normal_1682_857_0018.png     0:Normal        CNCB  Normal_1682   \n",
              "\n",
              "       n_esima_img  N_images  Bin   Perc_LOI  lung_area  lung_xdelta  \\\n",
              "45133          NaN        56    2  23.072433     141988          461   \n",
              "37398          NaN        54   10  25.024033     121669          421   \n",
              "75163          NaN       436    2  29.897690     151906          503   \n",
              "\n",
              "       lung_ydelta  xmin  xmax  ymin  ymax  \n",
              "45133          308    36   497    94   402  \n",
              "37398          289    34   455   106   395  \n",
              "75163          302     0   503   101   403  "
            ],
            "text/html": [
              "\n",
              "  <div id=\"df-abe033a3-6487-4106-bb55-f0d47f5f445c\">\n",
              "    <div class=\"colab-df-container\">\n",
              "      <div>\n",
              "<style scoped>\n",
              "    .dataframe tbody tr th:only-of-type {\n",
              "        vertical-align: middle;\n",
              "    }\n",
              "\n",
              "    .dataframe tbody tr th {\n",
              "        vertical-align: top;\n",
              "    }\n",
              "\n",
              "    .dataframe thead th {\n",
              "        text-align: right;\n",
              "    }\n",
              "</style>\n",
              "<table border=\"1\" class=\"dataframe\">\n",
              "  <thead>\n",
              "    <tr style=\"text-align: right;\">\n",
              "      <th></th>\n",
              "      <th>filename</th>\n",
              "      <th>class_covid</th>\n",
              "      <th>source_data</th>\n",
              "      <th>id_num</th>\n",
              "      <th>n_esima_img</th>\n",
              "      <th>N_images</th>\n",
              "      <th>Bin</th>\n",
              "      <th>Perc_LOI</th>\n",
              "      <th>lung_area</th>\n",
              "      <th>lung_xdelta</th>\n",
              "      <th>lung_ydelta</th>\n",
              "      <th>xmin</th>\n",
              "      <th>xmax</th>\n",
              "      <th>ymin</th>\n",
              "      <th>ymax</th>\n",
              "    </tr>\n",
              "  </thead>\n",
              "  <tbody>\n",
              "    <tr>\n",
              "      <th>45133</th>\n",
              "      <td>NCP_187_1518_0061.png</td>\n",
              "      <td>2:Covid-19</td>\n",
              "      <td>CNCB</td>\n",
              "      <td>NCP_187</td>\n",
              "      <td>NaN</td>\n",
              "      <td>56</td>\n",
              "      <td>2</td>\n",
              "      <td>23.072433</td>\n",
              "      <td>141988</td>\n",
              "      <td>461</td>\n",
              "      <td>308</td>\n",
              "      <td>36</td>\n",
              "      <td>497</td>\n",
              "      <td>94</td>\n",
              "      <td>402</td>\n",
              "    </tr>\n",
              "    <tr>\n",
              "      <th>37398</th>\n",
              "      <td>CP_693_3055_0120.png</td>\n",
              "      <td>1:Pneumonia</td>\n",
              "      <td>CNCB</td>\n",
              "      <td>CP_693</td>\n",
              "      <td>NaN</td>\n",
              "      <td>54</td>\n",
              "      <td>10</td>\n",
              "      <td>25.024033</td>\n",
              "      <td>121669</td>\n",
              "      <td>421</td>\n",
              "      <td>289</td>\n",
              "      <td>34</td>\n",
              "      <td>455</td>\n",
              "      <td>106</td>\n",
              "      <td>395</td>\n",
              "    </tr>\n",
              "    <tr>\n",
              "      <th>75163</th>\n",
              "      <td>Normal_1682_857_0018.png</td>\n",
              "      <td>0:Normal</td>\n",
              "      <td>CNCB</td>\n",
              "      <td>Normal_1682</td>\n",
              "      <td>NaN</td>\n",
              "      <td>436</td>\n",
              "      <td>2</td>\n",
              "      <td>29.897690</td>\n",
              "      <td>151906</td>\n",
              "      <td>503</td>\n",
              "      <td>302</td>\n",
              "      <td>0</td>\n",
              "      <td>503</td>\n",
              "      <td>101</td>\n",
              "      <td>403</td>\n",
              "    </tr>\n",
              "  </tbody>\n",
              "</table>\n",
              "</div>\n",
              "      <button class=\"colab-df-convert\" onclick=\"convertToInteractive('df-abe033a3-6487-4106-bb55-f0d47f5f445c')\"\n",
              "              title=\"Convert this dataframe to an interactive table.\"\n",
              "              style=\"display:none;\">\n",
              "        \n",
              "  <svg xmlns=\"http://www.w3.org/2000/svg\" height=\"24px\"viewBox=\"0 0 24 24\"\n",
              "       width=\"24px\">\n",
              "    <path d=\"M0 0h24v24H0V0z\" fill=\"none\"/>\n",
              "    <path d=\"M18.56 5.44l.94 2.06.94-2.06 2.06-.94-2.06-.94-.94-2.06-.94 2.06-2.06.94zm-11 1L8.5 8.5l.94-2.06 2.06-.94-2.06-.94L8.5 2.5l-.94 2.06-2.06.94zm10 10l.94 2.06.94-2.06 2.06-.94-2.06-.94-.94-2.06-.94 2.06-2.06.94z\"/><path d=\"M17.41 7.96l-1.37-1.37c-.4-.4-.92-.59-1.43-.59-.52 0-1.04.2-1.43.59L10.3 9.45l-7.72 7.72c-.78.78-.78 2.05 0 2.83L4 21.41c.39.39.9.59 1.41.59.51 0 1.02-.2 1.41-.59l7.78-7.78 2.81-2.81c.8-.78.8-2.07 0-2.86zM5.41 20L4 18.59l7.72-7.72 1.47 1.35L5.41 20z\"/>\n",
              "  </svg>\n",
              "      </button>\n",
              "      \n",
              "  <style>\n",
              "    .colab-df-container {\n",
              "      display:flex;\n",
              "      flex-wrap:wrap;\n",
              "      gap: 12px;\n",
              "    }\n",
              "\n",
              "    .colab-df-convert {\n",
              "      background-color: #E8F0FE;\n",
              "      border: none;\n",
              "      border-radius: 50%;\n",
              "      cursor: pointer;\n",
              "      display: none;\n",
              "      fill: #1967D2;\n",
              "      height: 32px;\n",
              "      padding: 0 0 0 0;\n",
              "      width: 32px;\n",
              "    }\n",
              "\n",
              "    .colab-df-convert:hover {\n",
              "      background-color: #E2EBFA;\n",
              "      box-shadow: 0px 1px 2px rgba(60, 64, 67, 0.3), 0px 1px 3px 1px rgba(60, 64, 67, 0.15);\n",
              "      fill: #174EA6;\n",
              "    }\n",
              "\n",
              "    [theme=dark] .colab-df-convert {\n",
              "      background-color: #3B4455;\n",
              "      fill: #D2E3FC;\n",
              "    }\n",
              "\n",
              "    [theme=dark] .colab-df-convert:hover {\n",
              "      background-color: #434B5C;\n",
              "      box-shadow: 0px 1px 3px 1px rgba(0, 0, 0, 0.15);\n",
              "      filter: drop-shadow(0px 1px 2px rgba(0, 0, 0, 0.3));\n",
              "      fill: #FFFFFF;\n",
              "    }\n",
              "  </style>\n",
              "\n",
              "      <script>\n",
              "        const buttonEl =\n",
              "          document.querySelector('#df-abe033a3-6487-4106-bb55-f0d47f5f445c button.colab-df-convert');\n",
              "        buttonEl.style.display =\n",
              "          google.colab.kernel.accessAllowed ? 'block' : 'none';\n",
              "\n",
              "        async function convertToInteractive(key) {\n",
              "          const element = document.querySelector('#df-abe033a3-6487-4106-bb55-f0d47f5f445c');\n",
              "          const dataTable =\n",
              "            await google.colab.kernel.invokeFunction('convertToInteractive',\n",
              "                                                     [key], {});\n",
              "          if (!dataTable) return;\n",
              "\n",
              "          const docLinkHtml = 'Like what you see? Visit the ' +\n",
              "            '<a target=\"_blank\" href=https://colab.research.google.com/notebooks/data_table.ipynb>data table notebook</a>'\n",
              "            + ' to learn more about interactive tables.';\n",
              "          element.innerHTML = '';\n",
              "          dataTable['output_type'] = 'display_data';\n",
              "          await google.colab.output.renderOutput(dataTable, element);\n",
              "          const docLink = document.createElement('div');\n",
              "          docLink.innerHTML = docLinkHtml;\n",
              "          element.appendChild(docLink);\n",
              "        }\n",
              "      </script>\n",
              "    </div>\n",
              "  </div>\n",
              "  "
            ]
          },
          "metadata": {},
          "execution_count": 7
        }
      ]
    },
    {
      "cell_type": "markdown",
      "source": [
        "## 2.3: Exporting files"
      ],
      "metadata": {
        "id": "sZJhpX7AO4RQ"
      }
    },
    {
      "cell_type": "code",
      "source": [
        "np.savez(Le_path + \"/01_data/Img_X_Y.npz\", \n",
        "         X_img_numpy = X_data, \n",
        "         Y_lab_numpy = Y_data)"
      ],
      "metadata": {
        "id": "Rt_B63ITMpdA"
      },
      "execution_count": null,
      "outputs": []
    },
    {
      "cell_type": "markdown",
      "source": [
        "## 2.4: Saving space"
      ],
      "metadata": {
        "id": "9cuBYvsn7Gzp"
      }
    },
    {
      "cell_type": "code",
      "source": [
        "# input list\n",
        "inputList = ['X_data', 'Y_data']\n",
        "\n",
        "# Removing all the items from the list\n",
        "inputList.clear()"
      ],
      "metadata": {
        "id": "--TNISfw7Kzt"
      },
      "execution_count": null,
      "outputs": []
    },
    {
      "cell_type": "markdown",
      "source": [
        "# 3: Criating a dataset object of images"
      ],
      "metadata": {
        "id": "gutYS8Fv6F7O"
      }
    },
    {
      "cell_type": "code",
      "source": [
        "# Loading gzip file\n",
        "npzfile = np.load(Le_path + \"/01_data/Img_X_Y.npz\")\n",
        "\n",
        "# Checking files inside zip file\n",
        "npzfile.files"
      ],
      "metadata": {
        "id": "psa71ePR6mGl",
        "colab": {
          "base_uri": "https://localhost:8080/"
        },
        "outputId": "4fdb4f3a-b7fb-44c3-c66a-e7acf910a294"
      },
      "execution_count": null,
      "outputs": [
        {
          "output_type": "execute_result",
          "data": {
            "text/plain": [
              "['X_img_numpy', 'Y_lab_numpy']"
            ]
          },
          "metadata": {},
          "execution_count": 8
        }
      ]
    },
    {
      "cell_type": "code",
      "source": [
        "# Reading it position\n",
        "X = npzfile['X_img_numpy']\n",
        "Y = npzfile['Y_lab_numpy']\n",
        "IMG_df = pd.read_csv(Le_path + \"/01_data\"+'/01-lung-dataset-entry.csv')\n",
        "print('Tamanho base de treino X',np.shape(X))\n",
        "print('Tamanho base de treino Y',np.shape(Y))\n",
        "print('Tamanho base de treino Y',np.shape(IMG_df))"
      ],
      "metadata": {
        "id": "ft2y6D_T6sfV",
        "colab": {
          "base_uri": "https://localhost:8080/"
        },
        "outputId": "17442304-624d-4f11-900f-8eeb476d90b5"
      },
      "execution_count": null,
      "outputs": [
        {
          "output_type": "stream",
          "name": "stdout",
          "text": [
            "Tamanho base de treino X (193419, 256, 256)\n",
            "Tamanho base de treino Y (193419, 4)\n",
            "Tamanho base de treino Y (193419, 15)\n"
          ]
        }
      ]
    },
    {
      "cell_type": "code",
      "source": [
        "df = pd.DataFrame(Y, columns = ['Fold','Covid','pneumonia','normal'])"
      ],
      "metadata": {
        "id": "YgEQT3uq6um5"
      },
      "execution_count": null,
      "outputs": []
    },
    {
      "cell_type": "code",
      "source": [
        "conditions = [\n",
        "    df['Covid']     == 1,\n",
        "    df['pneumonia'] == 1,\n",
        "    df['normal']    == 1]\n",
        "\n",
        "choices = ['0:Normal','1:Pneumonia','2:Covid-19']\n",
        "df['class_lung'] = np.select(conditions, choices)"
      ],
      "metadata": {
        "id": "8qyEhll_6v1c"
      },
      "execution_count": null,
      "outputs": []
    },
    {
      "cell_type": "code",
      "source": [
        "df.value_counts()"
      ],
      "metadata": {
        "id": "0jLETiwQ6xWs"
      },
      "execution_count": null,
      "outputs": []
    },
    {
      "cell_type": "code",
      "source": [
        "Y_labels=df.class_lung.to_numpy()"
      ],
      "metadata": {
        "id": "r-GpZ4uM6ypQ"
      },
      "execution_count": null,
      "outputs": []
    },
    {
      "cell_type": "code",
      "source": [
        "from PIL import Image\n",
        "import numpy as np\n",
        "import cv2"
      ],
      "metadata": {
        "id": "icuTNg_QOW6T"
      },
      "execution_count": null,
      "outputs": []
    },
    {
      "cell_type": "code",
      "source": [
        "def imgs_to_dataset_format():\n",
        "    for i in range(0, 193418):\n",
        "        yield { 'img': cv2.merge((X[i], X[i], X[i])) , 'label':Y_labels[i], 'fold': df.Fold.to_numpy()[i]} "
      ],
      "metadata": {
        "id": "sTRV8DbN60Px"
      },
      "execution_count": null,
      "outputs": []
    },
    {
      "cell_type": "code",
      "source": [
        "from datasets import Dataset"
      ],
      "metadata": {
        "id": "C6oIMc4EQmDv"
      },
      "execution_count": null,
      "outputs": []
    },
    {
      "cell_type": "code",
      "source": [
        "lung_dataset = Dataset.from_generator(imgs_to_dataset_format)"
      ],
      "metadata": {
        "id": "WwHcQZQ1613V",
        "colab": {
          "base_uri": "https://localhost:8080/",
          "height": 156,
          "referenced_widgets": [
            "841ef3f9f89f4cf482d88c004a228ace",
            "75dc3ea1cd394c28b0507a008c254fff",
            "d1330925cffb4848be3252e2c6a1d84a",
            "1d162be4457249b2b37207d51151da7e",
            "ea636910791d46cfb1f442a627024ffb",
            "e838b3b509a44cac9fc6909bf1a3ed90",
            "c772dcfff5e7492285af1bb0d7650937",
            "993b1b6ea7f54e01b5b4bb13418155a1",
            "6a19a51f1c104cb194c606931b026bdc",
            "d142db8f16cf453aaebf8c67391a26d0",
            "628c448ac17240b2819d1fc5a72aafba"
          ]
        },
        "outputId": "50371f76-cd71-4f09-9eca-721427bf03b0"
      },
      "execution_count": null,
      "outputs": [
        {
          "output_type": "stream",
          "name": "stderr",
          "text": [
            "WARNING:datasets.builder:Using custom data configuration default-9ef9f287e52ba4ca\n",
            "/usr/local/lib/python3.8/dist-packages/datasets/builder.py:712: FutureWarning: 'use_auth_token' was deprecated in version 2.7.1 and will be removed in 3.0.0. Pass `use_auth_token` to the initializer/`load_dataset_builder` instead.\n",
            "  warnings.warn(\n"
          ]
        },
        {
          "output_type": "stream",
          "name": "stdout",
          "text": [
            "Downloading and preparing dataset generator/default to /root/.cache/huggingface/datasets/generator/default-9ef9f287e52ba4ca/0.0.0...\n"
          ]
        },
        {
          "output_type": "display_data",
          "data": {
            "text/plain": [
              "Generating train split: 0 examples [00:00, ? examples/s]"
            ],
            "application/vnd.jupyter.widget-view+json": {
              "version_major": 2,
              "version_minor": 0,
              "model_id": "841ef3f9f89f4cf482d88c004a228ace"
            }
          },
          "metadata": {}
        },
        {
          "output_type": "stream",
          "name": "stdout",
          "text": [
            "Dataset generator downloaded and prepared to /root/.cache/huggingface/datasets/generator/default-9ef9f287e52ba4ca/0.0.0. Subsequent calls will reuse this data.\n"
          ]
        }
      ]
    },
    {
      "cell_type": "code",
      "source": [
        "lung_dataset"
      ],
      "metadata": {
        "id": "2SzEmv4k63Kq",
        "colab": {
          "base_uri": "https://localhost:8080/"
        },
        "outputId": "e8f5ac61-5d27-4531-9567-48cc2fcfe46b"
      },
      "execution_count": null,
      "outputs": [
        {
          "output_type": "execute_result",
          "data": {
            "text/plain": [
              "Dataset({\n",
              "    features: ['img', 'label', 'fold'],\n",
              "    num_rows: 193418\n",
              "})"
            ]
          },
          "metadata": {},
          "execution_count": 18
        }
      ]
    },
    {
      "cell_type": "code",
      "source": [
        "lung_dataset.save_to_disk(Le_path + '/01_data/data_set_lung')"
      ],
      "metadata": {
        "id": "2F0Aym7y67fn",
        "colab": {
          "base_uri": "https://localhost:8080/",
          "height": 49,
          "referenced_widgets": [
            "1b01dd78f55e4aaf9041df889c9d15dc",
            "9e6e36a34051411a8ce301db1581f33e",
            "d4ba5851c9bb4ab183c31a4eac19941a",
            "4d2a8154ba604db9bcb66e0093352f59",
            "e30a074516dd43e88cd99e6593f8779e",
            "37ec3611f3ea420686adc2d62778fda5",
            "5ee62316636443fbac59651532f81438",
            "7b1bb388476440e0a0874f97a7c04788",
            "c28f16811331467f9bb4decb9c5e6975",
            "fe5094c28ff54629beace333c012b15a",
            "63a6f07512074277be8f24486fa0c232"
          ]
        },
        "outputId": "09f1eae3-295f-4a01-d5fd-bae043334a59"
      },
      "execution_count": null,
      "outputs": [
        {
          "output_type": "display_data",
          "data": {
            "text/plain": [
              "Saving the dataset (0/178 shards):   0%|          | 0/193418 [00:00<?, ? examples/s]"
            ],
            "application/vnd.jupyter.widget-view+json": {
              "version_major": 2,
              "version_minor": 0,
              "model_id": "1b01dd78f55e4aaf9041df889c9d15dc"
            }
          },
          "metadata": {}
        }
      ]
    },
    {
      "cell_type": "markdown",
      "source": [
        "# 4: Exploratory analisys"
      ],
      "metadata": {
        "id": "tKQSAKjyRXAa"
      }
    },
    {
      "cell_type": "markdown",
      "source": [
        "## 4.1: Importing data (just as a test)"
      ],
      "metadata": {
        "id": "HjKvkB4uPayt"
      }
    },
    {
      "cell_type": "code",
      "source": [
        "# Loading gzip file\n",
        "npzfile = np.load(Le_path + \"/01_data/Img_X_Y.npz\")\n",
        "\n",
        "# Checking files inside zip file\n",
        "npzfile.files"
      ],
      "metadata": {
        "colab": {
          "base_uri": "https://localhost:8080/"
        },
        "id": "GMg9RrhoPaQW",
        "outputId": "06e1714a-c7e8-4344-e0a5-bdef97850703"
      },
      "execution_count": null,
      "outputs": [
        {
          "output_type": "execute_result",
          "data": {
            "text/plain": [
              "['X_img_numpy', 'Y_lab_numpy', 'df_pandas']"
            ]
          },
          "metadata": {},
          "execution_count": 4
        }
      ]
    },
    {
      "cell_type": "markdown",
      "source": [],
      "metadata": {
        "id": "ND-Lg81L7FHB"
      }
    },
    {
      "cell_type": "code",
      "source": [
        "# Reading it position\n",
        "X = npzfile['X_img_numpy']\n",
        "Y = npzfile['Y_lab_numpy']\n",
        "IMG_df = pd.read_csv(Le_path + \"/01_data\"+'/01-lung-dataset-entry.csv')\n",
        "print('Tamanho base de treino X',np.shape(X))\n",
        "print('Tamanho base de treino Y',np.shape(Y))\n",
        "print('Tamanho base de treino Y',np.shape(IMG_df))"
      ],
      "metadata": {
        "id": "M5f8s2eT1a3D",
        "colab": {
          "base_uri": "https://localhost:8080/"
        },
        "outputId": "e064aa50-268c-4049-9b96-87bc279011c9"
      },
      "execution_count": null,
      "outputs": [
        {
          "output_type": "stream",
          "name": "stdout",
          "text": [
            "Tamanho base de treino X (193419, 256, 256)\n",
            "Tamanho base de treino Y (193419, 4)\n",
            "Tamanho base de treino Y (193419, 15)\n"
          ]
        }
      ]
    },
    {
      "cell_type": "markdown",
      "source": [
        "## 4.2: Tomograph example"
      ],
      "metadata": {
        "id": "ZD2MA3JjU61K"
      }
    },
    {
      "cell_type": "code",
      "source": [
        "# Example 03: Image visualization\n",
        "def show_image(image, title='Image', cmap_type='gray'):\n",
        "  plt.imshow(image, cmap=cmap_type)\n",
        "  plt.title(title)\n",
        "  plt.axis('off')\n",
        "  plt.show()"
      ],
      "metadata": {
        "id": "aSa_7sWTVFoo"
      },
      "execution_count": null,
      "outputs": []
    },
    {
      "cell_type": "code",
      "source": [
        "# Image Grayscale\n",
        "show_image( X[1],title='Lung image' + str(Y[1]), cmap_type='gray')"
      ],
      "metadata": {
        "colab": {
          "base_uri": "https://localhost:8080/",
          "height": 264
        },
        "id": "aQRY3_maVJHv",
        "outputId": "3a90456b-3da8-4bed-bdd1-1b96154e8f8d"
      },
      "execution_count": null,
      "outputs": [
        {
          "output_type": "display_data",
          "data": {
            "text/plain": [
              "<Figure size 432x288 with 1 Axes>"
            ],
            "image/png": "[encoded data removed]"
          },
          "metadata": {
            "needs_background": "light"
          }
        }
      ]
    },
    {
      "cell_type": "markdown",
      "source": [
        "## 4.3: data take a look"
      ],
      "metadata": {
        "id": "gX4nq0_aR293"
      }
    },
    {
      "cell_type": "code",
      "source": [
        "IMG_df.sample(5)"
      ],
      "metadata": {
        "colab": {
          "base_uri": "https://localhost:8080/",
          "height": 250
        },
        "id": "pRr4VoY6R74-",
        "outputId": "2d25a654-54b6-42a5-f255-00773fc31d15"
      },
      "execution_count": null,
      "outputs": [
        {
          "output_type": "execute_result",
          "data": {
            "text/plain": [
              "                                  filename  class_covid      source_data  \\\n",
              "22838                CP_1606_4294_0013.png  1:Pneumonia             CNCB   \n",
              "25202                CP_1789_3206_0032.png  1:Pneumonia             CNCB   \n",
              "98388            Normal_3884_5396_0052.png     0:Normal             CNCB   \n",
              "59879                NCP_433_2019_0096.png   2:Covid-19             CNCB   \n",
              "190045  radiopaedia-40244-42786-0-0041.png  1:Pneumonia  radiopaedia.org   \n",
              "\n",
              "                   id_num  n_esima_img  N_images  Bin   Perc_LOI  lung_area  \\\n",
              "22838             CP_1606         13.0        12    6  27.381897     162712   \n",
              "25202             CP_1789          NaN       136    7  18.362045     128740   \n",
              "98388         Normal_3884          NaN       360    7   7.128525     142197   \n",
              "59879             NCP_433          NaN        82    7  12.392044     143284   \n",
              "190045  radiopaedia-40244         41.0        41    4  38.264084     262710   \n",
              "\n",
              "        lung_xdelta  lung_ydelta  xmin  xmax  ymin  ymax  \n",
              "22838           473          344    16   489    74   418  \n",
              "25202           410          314    47   457    72   386  \n",
              "98388           417          341    49   466    41   382  \n",
              "59879           452          317    37   489    93   410  \n",
              "190045          630          417     0   630   130   547  "
            ],
            "text/html": [
              "\n",
              "  <div id=\"df-51a55ae1-3041-4c4e-aae3-9433e65a4fc4\">\n",
              "    <div class=\"colab-df-container\">\n",
              "      <div>\n",
              "<style scoped>\n",
              "    .dataframe tbody tr th:only-of-type {\n",
              "        vertical-align: middle;\n",
              "    }\n",
              "\n",
              "    .dataframe tbody tr th {\n",
              "        vertical-align: top;\n",
              "    }\n",
              "\n",
              "    .dataframe thead th {\n",
              "        text-align: right;\n",
              "    }\n",
              "</style>\n",
              "<table border=\"1\" class=\"dataframe\">\n",
              "  <thead>\n",
              "    <tr style=\"text-align: right;\">\n",
              "      <th></th>\n",
              "      <th>filename</th>\n",
              "      <th>class_covid</th>\n",
              "      <th>source_data</th>\n",
              "      <th>id_num</th>\n",
              "      <th>n_esima_img</th>\n",
              "      <th>N_images</th>\n",
              "      <th>Bin</th>\n",
              "      <th>Perc_LOI</th>\n",
              "      <th>lung_area</th>\n",
              "      <th>lung_xdelta</th>\n",
              "      <th>lung_ydelta</th>\n",
              "      <th>xmin</th>\n",
              "      <th>xmax</th>\n",
              "      <th>ymin</th>\n",
              "      <th>ymax</th>\n",
              "    </tr>\n",
              "  </thead>\n",
              "  <tbody>\n",
              "    <tr>\n",
              "      <th>22838</th>\n",
              "      <td>CP_1606_4294_0013.png</td>\n",
              "      <td>1:Pneumonia</td>\n",
              "      <td>CNCB</td>\n",
              "      <td>CP_1606</td>\n",
              "      <td>13.0</td>\n",
              "      <td>12</td>\n",
              "      <td>6</td>\n",
              "      <td>27.381897</td>\n",
              "      <td>162712</td>\n",
              "      <td>473</td>\n",
              "      <td>344</td>\n",
              "      <td>16</td>\n",
              "      <td>489</td>\n",
              "      <td>74</td>\n",
              "      <td>418</td>\n",
              "    </tr>\n",
              "    <tr>\n",
              "      <th>25202</th>\n",
              "      <td>CP_1789_3206_0032.png</td>\n",
              "      <td>1:Pneumonia</td>\n",
              "      <td>CNCB</td>\n",
              "      <td>CP_1789</td>\n",
              "      <td>NaN</td>\n",
              "      <td>136</td>\n",
              "      <td>7</td>\n",
              "      <td>18.362045</td>\n",
              "      <td>128740</td>\n",
              "      <td>410</td>\n",
              "      <td>314</td>\n",
              "      <td>47</td>\n",
              "      <td>457</td>\n",
              "      <td>72</td>\n",
              "      <td>386</td>\n",
              "    </tr>\n",
              "    <tr>\n",
              "      <th>98388</th>\n",
              "      <td>Normal_3884_5396_0052.png</td>\n",
              "      <td>0:Normal</td>\n",
              "      <td>CNCB</td>\n",
              "      <td>Normal_3884</td>\n",
              "      <td>NaN</td>\n",
              "      <td>360</td>\n",
              "      <td>7</td>\n",
              "      <td>7.128525</td>\n",
              "      <td>142197</td>\n",
              "      <td>417</td>\n",
              "      <td>341</td>\n",
              "      <td>49</td>\n",
              "      <td>466</td>\n",
              "      <td>41</td>\n",
              "      <td>382</td>\n",
              "    </tr>\n",
              "    <tr>\n",
              "      <th>59879</th>\n",
              "      <td>NCP_433_2019_0096.png</td>\n",
              "      <td>2:Covid-19</td>\n",
              "      <td>CNCB</td>\n",
              "      <td>NCP_433</td>\n",
              "      <td>NaN</td>\n",
              "      <td>82</td>\n",
              "      <td>7</td>\n",
              "      <td>12.392044</td>\n",
              "      <td>143284</td>\n",
              "      <td>452</td>\n",
              "      <td>317</td>\n",
              "      <td>37</td>\n",
              "      <td>489</td>\n",
              "      <td>93</td>\n",
              "      <td>410</td>\n",
              "    </tr>\n",
              "    <tr>\n",
              "      <th>190045</th>\n",
              "      <td>radiopaedia-40244-42786-0-0041.png</td>\n",
              "      <td>1:Pneumonia</td>\n",
              "      <td>radiopaedia.org</td>\n",
              "      <td>radiopaedia-40244</td>\n",
              "      <td>41.0</td>\n",
              "      <td>41</td>\n",
              "      <td>4</td>\n",
              "      <td>38.264084</td>\n",
              "      <td>262710</td>\n",
              "      <td>630</td>\n",
              "      <td>417</td>\n",
              "      <td>0</td>\n",
              "      <td>630</td>\n",
              "      <td>130</td>\n",
              "      <td>547</td>\n",
              "    </tr>\n",
              "  </tbody>\n",
              "</table>\n",
              "</div>\n",
              "      <button class=\"colab-df-convert\" onclick=\"convertToInteractive('df-51a55ae1-3041-4c4e-aae3-9433e65a4fc4')\"\n",
              "              title=\"Convert this dataframe to an interactive table.\"\n",
              "              style=\"display:none;\">\n",
              "        \n",
              "  <svg xmlns=\"http://www.w3.org/2000/svg\" height=\"24px\"viewBox=\"0 0 24 24\"\n",
              "       width=\"24px\">\n",
              "    <path d=\"M0 0h24v24H0V0z\" fill=\"none\"/>\n",
              "    <path d=\"M18.56 5.44l.94 2.06.94-2.06 2.06-.94-2.06-.94-.94-2.06-.94 2.06-2.06.94zm-11 1L8.5 8.5l.94-2.06 2.06-.94-2.06-.94L8.5 2.5l-.94 2.06-2.06.94zm10 10l.94 2.06.94-2.06 2.06-.94-2.06-.94-.94-2.06-.94 2.06-2.06.94z\"/><path d=\"M17.41 7.96l-1.37-1.37c-.4-.4-.92-.59-1.43-.59-.52 0-1.04.2-1.43.59L10.3 9.45l-7.72 7.72c-.78.78-.78 2.05 0 2.83L4 21.41c.39.39.9.59 1.41.59.51 0 1.02-.2 1.41-.59l7.78-7.78 2.81-2.81c.8-.78.8-2.07 0-2.86zM5.41 20L4 18.59l7.72-7.72 1.47 1.35L5.41 20z\"/>\n",
              "  </svg>\n",
              "      </button>\n",
              "      \n",
              "  <style>\n",
              "    .colab-df-container {\n",
              "      display:flex;\n",
              "      flex-wrap:wrap;\n",
              "      gap: 12px;\n",
              "    }\n",
              "\n",
              "    .colab-df-convert {\n",
              "      background-color: #E8F0FE;\n",
              "      border: none;\n",
              "      border-radius: 50%;\n",
              "      cursor: pointer;\n",
              "      display: none;\n",
              "      fill: #1967D2;\n",
              "      height: 32px;\n",
              "      padding: 0 0 0 0;\n",
              "      width: 32px;\n",
              "    }\n",
              "\n",
              "    .colab-df-convert:hover {\n",
              "      background-color: #E2EBFA;\n",
              "      box-shadow: 0px 1px 2px rgba(60, 64, 67, 0.3), 0px 1px 3px 1px rgba(60, 64, 67, 0.15);\n",
              "      fill: #174EA6;\n",
              "    }\n",
              "\n",
              "    [theme=dark] .colab-df-convert {\n",
              "      background-color: #3B4455;\n",
              "      fill: #D2E3FC;\n",
              "    }\n",
              "\n",
              "    [theme=dark] .colab-df-convert:hover {\n",
              "      background-color: #434B5C;\n",
              "      box-shadow: 0px 1px 3px 1px rgba(0, 0, 0, 0.15);\n",
              "      filter: drop-shadow(0px 1px 2px rgba(0, 0, 0, 0.3));\n",
              "      fill: #FFFFFF;\n",
              "    }\n",
              "  </style>\n",
              "\n",
              "      <script>\n",
              "        const buttonEl =\n",
              "          document.querySelector('#df-51a55ae1-3041-4c4e-aae3-9433e65a4fc4 button.colab-df-convert');\n",
              "        buttonEl.style.display =\n",
              "          google.colab.kernel.accessAllowed ? 'block' : 'none';\n",
              "\n",
              "        async function convertToInteractive(key) {\n",
              "          const element = document.querySelector('#df-51a55ae1-3041-4c4e-aae3-9433e65a4fc4');\n",
              "          const dataTable =\n",
              "            await google.colab.kernel.invokeFunction('convertToInteractive',\n",
              "                                                     [key], {});\n",
              "          if (!dataTable) return;\n",
              "\n",
              "          const docLinkHtml = 'Like what you see? Visit the ' +\n",
              "            '<a target=\"_blank\" href=https://colab.research.google.com/notebooks/data_table.ipynb>data table notebook</a>'\n",
              "            + ' to learn more about interactive tables.';\n",
              "          element.innerHTML = '';\n",
              "          dataTable['output_type'] = 'display_data';\n",
              "          await google.colab.output.renderOutput(dataTable, element);\n",
              "          const docLink = document.createElement('div');\n",
              "          docLink.innerHTML = docLinkHtml;\n",
              "          element.appendChild(docLink);\n",
              "        }\n",
              "      </script>\n",
              "    </div>\n",
              "  </div>\n",
              "  "
            ]
          },
          "metadata": {},
          "execution_count": 33
        }
      ]
    },
    {
      "cell_type": "markdown",
      "source": [
        "## 4.4: Tabulating labels in all data and group (train,val,test)"
      ],
      "metadata": {
        "id": "M1O0hVdfReD2"
      }
    },
    {
      "cell_type": "code",
      "source": [
        "# Graoh bar\n",
        "label_counts = IMG_df['class_covid'].value_counts()\n",
        "fig, ax1 = plt.subplots(1,1,figsize = (12, 8))\n",
        "ax1.bar(np.arange(len(label_counts))+0.5, label_counts)\n",
        "ax1.set_xticks(np.arange(len(label_counts))+0.5)\n",
        "_ = ax1.set_xticklabels(label_counts.index, rotation = 90)"
      ],
      "metadata": {
        "id": "7wRRDtmxGh6m",
        "colab": {
          "base_uri": "https://localhost:8080/",
          "height": 538
        },
        "outputId": "4bf4e12a-1628-4bdf-a1ad-2e693501bdde"
      },
      "execution_count": null,
      "outputs": [
        {
          "output_type": "display_data",
          "data": {
            "text/plain": [
              "<Figure size 864x576 with 1 Axes>"
            ],
            "image/png": "[encoded data removed]"
          },
          "metadata": {
            "needs_background": "light"
          }
        }
      ]
    },
    {
      "cell_type": "code",
      "source": [
        "pd.crosstab(IMG_df.class_covid,IMG_df.source_data, margins=True, margins_name=\"Total\")"
      ],
      "metadata": {
        "colab": {
          "base_uri": "https://localhost:8080/",
          "height": 206
        },
        "id": "RBoyYRKMzUub",
        "outputId": "7db82099-cd9e-4f33-e4b4-7f43b2f0825c"
      },
      "execution_count": null,
      "outputs": [
        {
          "output_type": "execute_result",
          "data": {
            "text/plain": [
              "source_data    CNCB  COVID-CTSet  LIDC-IDRI  SP_Hosp  TCIA  coronacases.org  \\\n",
              "class_covid                                                                   \n",
              "0:Normal      45758         9776       3999      757     0                0   \n",
              "1:Pneumonia   39009            0          0        0     0                0   \n",
              "2:Covid-19    31070         2282          0     2167  7389             1243   \n",
              "Total        115837        12058       3999     2924  7389             1243   \n",
              "\n",
              "source_data  iCTCF  radiopaedia.org   Total  \n",
              "class_covid                                  \n",
              "0:Normal         0              550   60840  \n",
              "1:Pneumonia      0             1282   40291  \n",
              "2:Covid-19   45912             2225   92288  \n",
              "Total        45912             4057  193419  "
            ],
            "text/html": [
              "\n",
              "  <div id=\"df-42266500-6d0a-435d-b013-eb4b27e12f2f\">\n",
              "    <div class=\"colab-df-container\">\n",
              "      <div>\n",
              "<style scoped>\n",
              "    .dataframe tbody tr th:only-of-type {\n",
              "        vertical-align: middle;\n",
              "    }\n",
              "\n",
              "    .dataframe tbody tr th {\n",
              "        vertical-align: top;\n",
              "    }\n",
              "\n",
              "    .dataframe thead th {\n",
              "        text-align: right;\n",
              "    }\n",
              "</style>\n",
              "<table border=\"1\" class=\"dataframe\">\n",
              "  <thead>\n",
              "    <tr style=\"text-align: right;\">\n",
              "      <th>source_data</th>\n",
              "      <th>CNCB</th>\n",
              "      <th>COVID-CTSet</th>\n",
              "      <th>LIDC-IDRI</th>\n",
              "      <th>SP_Hosp</th>\n",
              "      <th>TCIA</th>\n",
              "      <th>coronacases.org</th>\n",
              "      <th>iCTCF</th>\n",
              "      <th>radiopaedia.org</th>\n",
              "      <th>Total</th>\n",
              "    </tr>\n",
              "    <tr>\n",
              "      <th>class_covid</th>\n",
              "      <th></th>\n",
              "      <th></th>\n",
              "      <th></th>\n",
              "      <th></th>\n",
              "      <th></th>\n",
              "      <th></th>\n",
              "      <th></th>\n",
              "      <th></th>\n",
              "      <th></th>\n",
              "    </tr>\n",
              "  </thead>\n",
              "  <tbody>\n",
              "    <tr>\n",
              "      <th>0:Normal</th>\n",
              "      <td>45758</td>\n",
              "      <td>9776</td>\n",
              "      <td>3999</td>\n",
              "      <td>757</td>\n",
              "      <td>0</td>\n",
              "      <td>0</td>\n",
              "      <td>0</td>\n",
              "      <td>550</td>\n",
              "      <td>60840</td>\n",
              "    </tr>\n",
              "    <tr>\n",
              "      <th>1:Pneumonia</th>\n",
              "      <td>39009</td>\n",
              "      <td>0</td>\n",
              "      <td>0</td>\n",
              "      <td>0</td>\n",
              "      <td>0</td>\n",
              "      <td>0</td>\n",
              "      <td>0</td>\n",
              "      <td>1282</td>\n",
              "      <td>40291</td>\n",
              "    </tr>\n",
              "    <tr>\n",
              "      <th>2:Covid-19</th>\n",
              "      <td>31070</td>\n",
              "      <td>2282</td>\n",
              "      <td>0</td>\n",
              "      <td>2167</td>\n",
              "      <td>7389</td>\n",
              "      <td>1243</td>\n",
              "      <td>45912</td>\n",
              "      <td>2225</td>\n",
              "      <td>92288</td>\n",
              "    </tr>\n",
              "    <tr>\n",
              "      <th>Total</th>\n",
              "      <td>115837</td>\n",
              "      <td>12058</td>\n",
              "      <td>3999</td>\n",
              "      <td>2924</td>\n",
              "      <td>7389</td>\n",
              "      <td>1243</td>\n",
              "      <td>45912</td>\n",
              "      <td>4057</td>\n",
              "      <td>193419</td>\n",
              "    </tr>\n",
              "  </tbody>\n",
              "</table>\n",
              "</div>\n",
              "      <button class=\"colab-df-convert\" onclick=\"convertToInteractive('df-42266500-6d0a-435d-b013-eb4b27e12f2f')\"\n",
              "              title=\"Convert this dataframe to an interactive table.\"\n",
              "              style=\"display:none;\">\n",
              "        \n",
              "  <svg xmlns=\"http://www.w3.org/2000/svg\" height=\"24px\"viewBox=\"0 0 24 24\"\n",
              "       width=\"24px\">\n",
              "    <path d=\"M0 0h24v24H0V0z\" fill=\"none\"/>\n",
              "    <path d=\"M18.56 5.44l.94 2.06.94-2.06 2.06-.94-2.06-.94-.94-2.06-.94 2.06-2.06.94zm-11 1L8.5 8.5l.94-2.06 2.06-.94-2.06-.94L8.5 2.5l-.94 2.06-2.06.94zm10 10l.94 2.06.94-2.06 2.06-.94-2.06-.94-.94-2.06-.94 2.06-2.06.94z\"/><path d=\"M17.41 7.96l-1.37-1.37c-.4-.4-.92-.59-1.43-.59-.52 0-1.04.2-1.43.59L10.3 9.45l-7.72 7.72c-.78.78-.78 2.05 0 2.83L4 21.41c.39.39.9.59 1.41.59.51 0 1.02-.2 1.41-.59l7.78-7.78 2.81-2.81c.8-.78.8-2.07 0-2.86zM5.41 20L4 18.59l7.72-7.72 1.47 1.35L5.41 20z\"/>\n",
              "  </svg>\n",
              "      </button>\n",
              "      \n",
              "  <style>\n",
              "    .colab-df-container {\n",
              "      display:flex;\n",
              "      flex-wrap:wrap;\n",
              "      gap: 12px;\n",
              "    }\n",
              "\n",
              "    .colab-df-convert {\n",
              "      background-color: #E8F0FE;\n",
              "      border: none;\n",
              "      border-radius: 50%;\n",
              "      cursor: pointer;\n",
              "      display: none;\n",
              "      fill: #1967D2;\n",
              "      height: 32px;\n",
              "      padding: 0 0 0 0;\n",
              "      width: 32px;\n",
              "    }\n",
              "\n",
              "    .colab-df-convert:hover {\n",
              "      background-color: #E2EBFA;\n",
              "      box-shadow: 0px 1px 2px rgba(60, 64, 67, 0.3), 0px 1px 3px 1px rgba(60, 64, 67, 0.15);\n",
              "      fill: #174EA6;\n",
              "    }\n",
              "\n",
              "    [theme=dark] .colab-df-convert {\n",
              "      background-color: #3B4455;\n",
              "      fill: #D2E3FC;\n",
              "    }\n",
              "\n",
              "    [theme=dark] .colab-df-convert:hover {\n",
              "      background-color: #434B5C;\n",
              "      box-shadow: 0px 1px 3px 1px rgba(0, 0, 0, 0.15);\n",
              "      filter: drop-shadow(0px 1px 2px rgba(0, 0, 0, 0.3));\n",
              "      fill: #FFFFFF;\n",
              "    }\n",
              "  </style>\n",
              "\n",
              "      <script>\n",
              "        const buttonEl =\n",
              "          document.querySelector('#df-42266500-6d0a-435d-b013-eb4b27e12f2f button.colab-df-convert');\n",
              "        buttonEl.style.display =\n",
              "          google.colab.kernel.accessAllowed ? 'block' : 'none';\n",
              "\n",
              "        async function convertToInteractive(key) {\n",
              "          const element = document.querySelector('#df-42266500-6d0a-435d-b013-eb4b27e12f2f');\n",
              "          const dataTable =\n",
              "            await google.colab.kernel.invokeFunction('convertToInteractive',\n",
              "                                                     [key], {});\n",
              "          if (!dataTable) return;\n",
              "\n",
              "          const docLinkHtml = 'Like what you see? Visit the ' +\n",
              "            '<a target=\"_blank\" href=https://colab.research.google.com/notebooks/data_table.ipynb>data table notebook</a>'\n",
              "            + ' to learn more about interactive tables.';\n",
              "          element.innerHTML = '';\n",
              "          dataTable['output_type'] = 'display_data';\n",
              "          await google.colab.output.renderOutput(dataTable, element);\n",
              "          const docLink = document.createElement('div');\n",
              "          docLink.innerHTML = docLinkHtml;\n",
              "          element.appendChild(docLink);\n",
              "        }\n",
              "      </script>\n",
              "    </div>\n",
              "  </div>\n",
              "  "
            ]
          },
          "metadata": {},
          "execution_count": 37
        }
      ]
    },
    {
      "cell_type": "code",
      "source": [
        "sns.countplot(x=\"source_data\", hue=\"class_covid\", data=all_img_df)\n",
        "\n",
        "plt.show()"
      ],
      "metadata": {
        "colab": {
          "base_uri": "https://localhost:8080/",
          "height": 281
        },
        "id": "UGFcs--YUTW6",
        "outputId": "e16edabe-0ac1-4281-f196-8fbd2a2619a0"
      },
      "execution_count": null,
      "outputs": [
        {
          "output_type": "display_data",
          "data": {
            "text/plain": [
              "<Figure size 432x288 with 1 Axes>"
            ],
            "image/png": "[encoded data removed]"
          },
          "metadata": {
            "needs_background": "light"
          }
        }
      ]
    },
    {
      "cell_type": "markdown",
      "source": [
        "# 5: [extra] Importing using tensor flow"
      ],
      "metadata": {
        "id": "FH16AVRWk8md"
      }
    },
    {
      "cell_type": "code",
      "source": [
        "io_slices = Alex_path + '/Bin_Slicev3.xlsx'\n",
        "\n",
        "df_bin_slice=pd.read_excel(io_slices, sheet_name='Geral',usecols = ['filename','patient id','Bin','Bin_Slice','class','Tipo'])"
      ],
      "metadata": {
        "id": "dram6AvhltCr"
      },
      "execution_count": null,
      "outputs": []
    },
    {
      "cell_type": "code",
      "source": [
        "df_bin_slice['path_bin_file'] = \"Bin\" + df_bin_slice['Bin'].astype(str) +\"/\"+ df_bin_slice['filename']"
      ],
      "metadata": {
        "id": "3Ny0367Uxpbf"
      },
      "execution_count": null,
      "outputs": []
    },
    {
      "cell_type": "code",
      "source": [
        "df_bin_slice.head()"
      ],
      "metadata": {
        "colab": {
          "base_uri": "https://localhost:8080/"
        },
        "id": "mcL8T-RglrYC",
        "outputId": "3e931f03-f824-41ab-8329-46d0ed96bc97"
      },
      "execution_count": null,
      "outputs": [
        {
          "output_type": "execute_result",
          "data": {
            "text/plain": [
              "                         filename  class             patient id  Bin  \\\n",
              "0  volume-covid19-A-0699-0041.png      2  volume-covid19-A-0699   10   \n",
              "1  volume-covid19-A-0699-0040.png      2  volume-covid19-A-0699   10   \n",
              "2  volume-covid19-A-0699-0026.png      2  volume-covid19-A-0699   10   \n",
              "3  volume-covid19-A-0699-0023.png      2  volume-covid19-A-0699   10   \n",
              "4  volume-covid19-A-0699-0021.png      2  volume-covid19-A-0699   10   \n",
              "\n",
              "   Bin_Slice      Tipo                         path_bin_file  \n",
              "0         10  COVID-19  Bin10/volume-covid19-A-0699-0041.png  \n",
              "1         10  COVID-19  Bin10/volume-covid19-A-0699-0040.png  \n",
              "2         10  COVID-19  Bin10/volume-covid19-A-0699-0026.png  \n",
              "3         10  COVID-19  Bin10/volume-covid19-A-0699-0023.png  \n",
              "4         10  COVID-19  Bin10/volume-covid19-A-0699-0021.png  "
            ],
            "text/html": [
              "\n",
              "  <div id=\"df-af428652-377f-4105-8a1e-7323e45a1e6f\">\n",
              "    <div class=\"colab-df-container\">\n",
              "      <div>\n",
              "<style scoped>\n",
              "    .dataframe tbody tr th:only-of-type {\n",
              "        vertical-align: middle;\n",
              "    }\n",
              "\n",
              "    .dataframe tbody tr th {\n",
              "        vertical-align: top;\n",
              "    }\n",
              "\n",
              "    .dataframe thead th {\n",
              "        text-align: right;\n",
              "    }\n",
              "</style>\n",
              "<table border=\"1\" class=\"dataframe\">\n",
              "  <thead>\n",
              "    <tr style=\"text-align: right;\">\n",
              "      <th></th>\n",
              "      <th>filename</th>\n",
              "      <th>class</th>\n",
              "      <th>patient id</th>\n",
              "      <th>Bin</th>\n",
              "      <th>Bin_Slice</th>\n",
              "      <th>Tipo</th>\n",
              "      <th>path_bin_file</th>\n",
              "    </tr>\n",
              "  </thead>\n",
              "  <tbody>\n",
              "    <tr>\n",
              "      <th>0</th>\n",
              "      <td>volume-covid19-A-0699-0041.png</td>\n",
              "      <td>2</td>\n",
              "      <td>volume-covid19-A-0699</td>\n",
              "      <td>10</td>\n",
              "      <td>10</td>\n",
              "      <td>COVID-19</td>\n",
              "      <td>Bin10/volume-covid19-A-0699-0041.png</td>\n",
              "    </tr>\n",
              "    <tr>\n",
              "      <th>1</th>\n",
              "      <td>volume-covid19-A-0699-0040.png</td>\n",
              "      <td>2</td>\n",
              "      <td>volume-covid19-A-0699</td>\n",
              "      <td>10</td>\n",
              "      <td>10</td>\n",
              "      <td>COVID-19</td>\n",
              "      <td>Bin10/volume-covid19-A-0699-0040.png</td>\n",
              "    </tr>\n",
              "    <tr>\n",
              "      <th>2</th>\n",
              "      <td>volume-covid19-A-0699-0026.png</td>\n",
              "      <td>2</td>\n",
              "      <td>volume-covid19-A-0699</td>\n",
              "      <td>10</td>\n",
              "      <td>10</td>\n",
              "      <td>COVID-19</td>\n",
              "      <td>Bin10/volume-covid19-A-0699-0026.png</td>\n",
              "    </tr>\n",
              "    <tr>\n",
              "      <th>3</th>\n",
              "      <td>volume-covid19-A-0699-0023.png</td>\n",
              "      <td>2</td>\n",
              "      <td>volume-covid19-A-0699</td>\n",
              "      <td>10</td>\n",
              "      <td>10</td>\n",
              "      <td>COVID-19</td>\n",
              "      <td>Bin10/volume-covid19-A-0699-0023.png</td>\n",
              "    </tr>\n",
              "    <tr>\n",
              "      <th>4</th>\n",
              "      <td>volume-covid19-A-0699-0021.png</td>\n",
              "      <td>2</td>\n",
              "      <td>volume-covid19-A-0699</td>\n",
              "      <td>10</td>\n",
              "      <td>10</td>\n",
              "      <td>COVID-19</td>\n",
              "      <td>Bin10/volume-covid19-A-0699-0021.png</td>\n",
              "    </tr>\n",
              "  </tbody>\n",
              "</table>\n",
              "</div>\n",
              "      <button class=\"colab-df-convert\" onclick=\"convertToInteractive('df-af428652-377f-4105-8a1e-7323e45a1e6f')\"\n",
              "              title=\"Convert this dataframe to an interactive table.\"\n",
              "              style=\"display:none;\">\n",
              "        \n",
              "  <svg xmlns=\"http://www.w3.org/2000/svg\" height=\"24px\"viewBox=\"0 0 24 24\"\n",
              "       width=\"24px\">\n",
              "    <path d=\"M0 0h24v24H0V0z\" fill=\"none\"/>\n",
              "    <path d=\"M18.56 5.44l.94 2.06.94-2.06 2.06-.94-2.06-.94-.94-2.06-.94 2.06-2.06.94zm-11 1L8.5 8.5l.94-2.06 2.06-.94-2.06-.94L8.5 2.5l-.94 2.06-2.06.94zm10 10l.94 2.06.94-2.06 2.06-.94-2.06-.94-.94-2.06-.94 2.06-2.06.94z\"/><path d=\"M17.41 7.96l-1.37-1.37c-.4-.4-.92-.59-1.43-.59-.52 0-1.04.2-1.43.59L10.3 9.45l-7.72 7.72c-.78.78-.78 2.05 0 2.83L4 21.41c.39.39.9.59 1.41.59.51 0 1.02-.2 1.41-.59l7.78-7.78 2.81-2.81c.8-.78.8-2.07 0-2.86zM5.41 20L4 18.59l7.72-7.72 1.47 1.35L5.41 20z\"/>\n",
              "  </svg>\n",
              "      </button>\n",
              "      \n",
              "  <style>\n",
              "    .colab-df-container {\n",
              "      display:flex;\n",
              "      flex-wrap:wrap;\n",
              "      gap: 12px;\n",
              "    }\n",
              "\n",
              "    .colab-df-convert {\n",
              "      background-color: #E8F0FE;\n",
              "      border: none;\n",
              "      border-radius: 50%;\n",
              "      cursor: pointer;\n",
              "      display: none;\n",
              "      fill: #1967D2;\n",
              "      height: 32px;\n",
              "      padding: 0 0 0 0;\n",
              "      width: 32px;\n",
              "    }\n",
              "\n",
              "    .colab-df-convert:hover {\n",
              "      background-color: #E2EBFA;\n",
              "      box-shadow: 0px 1px 2px rgba(60, 64, 67, 0.3), 0px 1px 3px 1px rgba(60, 64, 67, 0.15);\n",
              "      fill: #174EA6;\n",
              "    }\n",
              "\n",
              "    [theme=dark] .colab-df-convert {\n",
              "      background-color: #3B4455;\n",
              "      fill: #D2E3FC;\n",
              "    }\n",
              "\n",
              "    [theme=dark] .colab-df-convert:hover {\n",
              "      background-color: #434B5C;\n",
              "      box-shadow: 0px 1px 3px 1px rgba(0, 0, 0, 0.15);\n",
              "      filter: drop-shadow(0px 1px 2px rgba(0, 0, 0, 0.3));\n",
              "      fill: #FFFFFF;\n",
              "    }\n",
              "  </style>\n",
              "\n",
              "      <script>\n",
              "        const buttonEl =\n",
              "          document.querySelector('#df-af428652-377f-4105-8a1e-7323e45a1e6f button.colab-df-convert');\n",
              "        buttonEl.style.display =\n",
              "          google.colab.kernel.accessAllowed ? 'block' : 'none';\n",
              "\n",
              "        async function convertToInteractive(key) {\n",
              "          const element = document.querySelector('#df-af428652-377f-4105-8a1e-7323e45a1e6f');\n",
              "          const dataTable =\n",
              "            await google.colab.kernel.invokeFunction('convertToInteractive',\n",
              "                                                     [key], {});\n",
              "          if (!dataTable) return;\n",
              "\n",
              "          const docLinkHtml = 'Like what you see? Visit the ' +\n",
              "            '<a target=\"_blank\" href=https://colab.research.google.com/notebooks/data_table.ipynb>data table notebook</a>'\n",
              "            + ' to learn more about interactive tables.';\n",
              "          element.innerHTML = '';\n",
              "          dataTable['output_type'] = 'display_data';\n",
              "          await google.colab.output.renderOutput(dataTable, element);\n",
              "          const docLink = document.createElement('div');\n",
              "          docLink.innerHTML = docLinkHtml;\n",
              "          element.appendChild(docLink);\n",
              "        }\n",
              "      </script>\n",
              "    </div>\n",
              "  </div>\n",
              "  "
            ]
          },
          "metadata": {},
          "execution_count": 57
        }
      ]
    },
    {
      "cell_type": "code",
      "source": [
        "image_size = 224\n",
        "path_img   = \"/content/drive/MyDrive/00-desorganizado/Dataset/Bins\""
      ],
      "metadata": {
        "id": "qKxZ8g1oloiu"
      },
      "execution_count": null,
      "outputs": []
    },
    {
      "cell_type": "code",
      "source": [
        "import tensorflow as tf"
      ],
      "metadata": {
        "id": "JELyQ-Uyv85k"
      },
      "execution_count": null,
      "outputs": []
    },
    {
      "cell_type": "code",
      "source": [
        "all_data_import = tf.keras.preprocessing.image.ImageDataGenerator(rescale=1./255)"
      ],
      "metadata": {
        "id": "pPGTH6aulnEi"
      },
      "execution_count": null,
      "outputs": []
    },
    {
      "cell_type": "code",
      "source": [
        " images_iterator = all_data_import.flow_from_dataframe(\n",
        "    dataframe = df_bin_slice,\n",
        "    directory = path_img,\n",
        "    x_col = 'path_bin_file',\n",
        "    y_col = 'class',\n",
        "    #y_col = ['class','filename','patient id','Bin','Bin_Slice','Tipo'],\n",
        "    color_mode=\"grayscale\",\n",
        "    batch_size=100,\n",
        "    class_mode=None,\n",
        "    shuffle=False,\n",
        "    seed=1,\n",
        "    target_size = (image_size, image_size)\n",
        ")"
      ],
      "metadata": {
        "colab": {
          "base_uri": "https://localhost:8080/"
        },
        "id": "KKAPovs5lDMW",
        "outputId": "db256aea-e972-4650-bd7d-d342a9751831"
      },
      "execution_count": null,
      "outputs": [
        {
          "output_type": "stream",
          "name": "stderr",
          "text": [
            "/usr/local/lib/python3.8/dist-packages/keras/preprocessing/image.py:989: UserWarning: Found 9 invalid image filename(s) in x_col=\"path_bin_file\". These filename(s) will be ignored.\n",
            "  warnings.warn('Found {} invalid image filename(s) in x_col=\"{}\". '\n"
          ]
        },
        {
          "output_type": "stream",
          "name": "stdout",
          "text": [
            "Found 193410 validated image filenames.\n"
          ]
        }
      ]
    },
    {
      "cell_type": "code",
      "source": [
        "images_iterator"
      ],
      "metadata": {
        "colab": {
          "base_uri": "https://localhost:8080/"
        },
        "id": "NHZUFTVsmZ7i",
        "outputId": "9012472a-5b09-4464-fcd7-994bd3f059f4"
      },
      "execution_count": null,
      "outputs": [
        {
          "output_type": "execute_result",
          "data": {
            "text/plain": [
              "<keras.preprocessing.image.DataFrameIterator at 0x7f853f62af70>"
            ]
          },
          "metadata": {},
          "execution_count": 62
        }
      ]
    },
    {
      "cell_type": "code",
      "source": [
        "first_image = next(images_iterator)"
      ],
      "metadata": {
        "id": "PhVQoBm653py"
      },
      "execution_count": null,
      "outputs": []
    },
    {
      "cell_type": "code",
      "source": [
        "first_image.shape"
      ],
      "metadata": {
        "colab": {
          "base_uri": "https://localhost:8080/"
        },
        "id": "pKCDprd557Jl",
        "outputId": "92ebff0f-9b82-433b-843d-888bac103694"
      },
      "execution_count": null,
      "outputs": [
        {
          "output_type": "execute_result",
          "data": {
            "text/plain": [
              "(100, 224, 224, 1)"
            ]
          },
          "metadata": {},
          "execution_count": 66
        }
      ]
    }
  ]
}